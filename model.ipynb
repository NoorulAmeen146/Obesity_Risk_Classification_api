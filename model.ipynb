{
 "cells": [
  {
   "cell_type": "code",
   "execution_count": 1,
   "metadata": {},
   "outputs": [],
   "source": [
    "import pandas as pd\n",
    "import numpy as np\n",
    "import matplotlib.pyplot as plt\n",
    "import seaborn as sns\n",
    "import os\n",
    "import xgboost as xgb\n",
    "import lightgbm as lgb\n",
    "import optuna\n",
    "from tqdm.auto import tqdm\n",
    "from sklearn.preprocessing import StandardScaler, MinMaxScaler, RobustScaler, OneHotEncoder\n",
    "from sklearn.pipeline import Pipeline\n",
    "from sklearn.model_selection import StratifiedKFold, cross_val_score, cross_validate\n",
    "from sklearn.tree import DecisionTreeClassifier\n",
    "from sklearn.ensemble import RandomForestClassifier, AdaBoostClassifier, GradientBoostingClassifier, VotingClassifier\n",
    "from sklearn.neighbors import KNeighborsClassifier"
   ]
  },
  {
   "cell_type": "code",
   "execution_count": 2,
   "metadata": {},
   "outputs": [],
   "source": [
    "df = pd.read_csv('./data.csv')"
   ]
  },
  {
   "cell_type": "code",
   "execution_count": 3,
   "metadata": {},
   "outputs": [
    {
     "data": {
      "text/plain": [
       "Gender                            0\n",
       "Age                               0\n",
       "Height                            0\n",
       "Weight                            0\n",
       "family_history_with_overweight    0\n",
       "FAVC                              0\n",
       "FCVC                              0\n",
       "NCP                               0\n",
       "CAEC                              0\n",
       "SMOKE                             0\n",
       "CH2O                              0\n",
       "SCC                               0\n",
       "FAF                               0\n",
       "TUE                               0\n",
       "CALC                              0\n",
       "NObeyesdad                        0\n",
       "dtype: int64"
      ]
     },
     "execution_count": 3,
     "metadata": {},
     "output_type": "execute_result"
    }
   ],
   "source": [
    "df.isna().sum()"
   ]
  },
  {
   "cell_type": "code",
   "execution_count": 4,
   "metadata": {},
   "outputs": [
    {
     "data": {
      "text/html": [
       "<div>\n",
       "<style scoped>\n",
       "    .dataframe tbody tr th:only-of-type {\n",
       "        vertical-align: middle;\n",
       "    }\n",
       "\n",
       "    .dataframe tbody tr th {\n",
       "        vertical-align: top;\n",
       "    }\n",
       "\n",
       "    .dataframe thead th {\n",
       "        text-align: right;\n",
       "    }\n",
       "</style>\n",
       "<table border=\"1\" class=\"dataframe\">\n",
       "  <thead>\n",
       "    <tr style=\"text-align: right;\">\n",
       "      <th></th>\n",
       "      <th>Gender</th>\n",
       "      <th>Age</th>\n",
       "      <th>Height</th>\n",
       "      <th>Weight</th>\n",
       "      <th>family_history_with_overweight</th>\n",
       "      <th>FAVC</th>\n",
       "      <th>FCVC</th>\n",
       "      <th>NCP</th>\n",
       "      <th>CAEC</th>\n",
       "      <th>SMOKE</th>\n",
       "      <th>CH2O</th>\n",
       "      <th>SCC</th>\n",
       "      <th>FAF</th>\n",
       "      <th>TUE</th>\n",
       "      <th>CALC</th>\n",
       "      <th>NObeyesdad</th>\n",
       "    </tr>\n",
       "  </thead>\n",
       "  <tbody>\n",
       "    <tr>\n",
       "      <th>0</th>\n",
       "      <td>Male</td>\n",
       "      <td>24.443011</td>\n",
       "      <td>1.699998</td>\n",
       "      <td>81.669950</td>\n",
       "      <td>yes</td>\n",
       "      <td>yes</td>\n",
       "      <td>2.000000</td>\n",
       "      <td>2.983297</td>\n",
       "      <td>Sometimes</td>\n",
       "      <td>no</td>\n",
       "      <td>2.763573</td>\n",
       "      <td>no</td>\n",
       "      <td>0.000000</td>\n",
       "      <td>0.976473</td>\n",
       "      <td>Sometimes</td>\n",
       "      <td>Overweight_Level_II</td>\n",
       "    </tr>\n",
       "    <tr>\n",
       "      <th>1</th>\n",
       "      <td>Female</td>\n",
       "      <td>18.000000</td>\n",
       "      <td>1.560000</td>\n",
       "      <td>57.000000</td>\n",
       "      <td>yes</td>\n",
       "      <td>yes</td>\n",
       "      <td>2.000000</td>\n",
       "      <td>3.000000</td>\n",
       "      <td>Frequently</td>\n",
       "      <td>no</td>\n",
       "      <td>2.000000</td>\n",
       "      <td>no</td>\n",
       "      <td>1.000000</td>\n",
       "      <td>1.000000</td>\n",
       "      <td>no</td>\n",
       "      <td>Normal_Weight</td>\n",
       "    </tr>\n",
       "    <tr>\n",
       "      <th>2</th>\n",
       "      <td>Female</td>\n",
       "      <td>18.000000</td>\n",
       "      <td>1.711460</td>\n",
       "      <td>50.165754</td>\n",
       "      <td>yes</td>\n",
       "      <td>yes</td>\n",
       "      <td>1.880534</td>\n",
       "      <td>1.411685</td>\n",
       "      <td>Sometimes</td>\n",
       "      <td>no</td>\n",
       "      <td>1.910378</td>\n",
       "      <td>no</td>\n",
       "      <td>0.866045</td>\n",
       "      <td>1.673584</td>\n",
       "      <td>no</td>\n",
       "      <td>Insufficient_Weight</td>\n",
       "    </tr>\n",
       "    <tr>\n",
       "      <th>3</th>\n",
       "      <td>Female</td>\n",
       "      <td>20.952737</td>\n",
       "      <td>1.710730</td>\n",
       "      <td>131.274851</td>\n",
       "      <td>yes</td>\n",
       "      <td>yes</td>\n",
       "      <td>3.000000</td>\n",
       "      <td>3.000000</td>\n",
       "      <td>Sometimes</td>\n",
       "      <td>no</td>\n",
       "      <td>1.674061</td>\n",
       "      <td>no</td>\n",
       "      <td>1.467863</td>\n",
       "      <td>0.780199</td>\n",
       "      <td>Sometimes</td>\n",
       "      <td>Obesity_Type_III</td>\n",
       "    </tr>\n",
       "    <tr>\n",
       "      <th>4</th>\n",
       "      <td>Male</td>\n",
       "      <td>31.641081</td>\n",
       "      <td>1.914186</td>\n",
       "      <td>93.798055</td>\n",
       "      <td>yes</td>\n",
       "      <td>yes</td>\n",
       "      <td>2.679664</td>\n",
       "      <td>1.971472</td>\n",
       "      <td>Sometimes</td>\n",
       "      <td>no</td>\n",
       "      <td>1.979848</td>\n",
       "      <td>no</td>\n",
       "      <td>1.967973</td>\n",
       "      <td>0.931721</td>\n",
       "      <td>Sometimes</td>\n",
       "      <td>Overweight_Level_II</td>\n",
       "    </tr>\n",
       "  </tbody>\n",
       "</table>\n",
       "</div>"
      ],
      "text/plain": [
       "   Gender        Age    Height      Weight family_history_with_overweight  \\\n",
       "0    Male  24.443011  1.699998   81.669950                            yes   \n",
       "1  Female  18.000000  1.560000   57.000000                            yes   \n",
       "2  Female  18.000000  1.711460   50.165754                            yes   \n",
       "3  Female  20.952737  1.710730  131.274851                            yes   \n",
       "4    Male  31.641081  1.914186   93.798055                            yes   \n",
       "\n",
       "  FAVC      FCVC       NCP        CAEC SMOKE      CH2O SCC       FAF  \\\n",
       "0  yes  2.000000  2.983297   Sometimes    no  2.763573  no  0.000000   \n",
       "1  yes  2.000000  3.000000  Frequently    no  2.000000  no  1.000000   \n",
       "2  yes  1.880534  1.411685   Sometimes    no  1.910378  no  0.866045   \n",
       "3  yes  3.000000  3.000000   Sometimes    no  1.674061  no  1.467863   \n",
       "4  yes  2.679664  1.971472   Sometimes    no  1.979848  no  1.967973   \n",
       "\n",
       "        TUE       CALC           NObeyesdad  \n",
       "0  0.976473  Sometimes  Overweight_Level_II  \n",
       "1  1.000000         no        Normal_Weight  \n",
       "2  1.673584         no  Insufficient_Weight  \n",
       "3  0.780199  Sometimes     Obesity_Type_III  \n",
       "4  0.931721  Sometimes  Overweight_Level_II  "
      ]
     },
     "execution_count": 4,
     "metadata": {},
     "output_type": "execute_result"
    }
   ],
   "source": [
    "df.head()"
   ]
  },
  {
   "cell_type": "code",
   "execution_count": 5,
   "metadata": {},
   "outputs": [],
   "source": [
    "def age_rounder(age:float)->int:\n",
    "    if age - int(age) <= 0.75:\n",
    "        return int(np.floor(age))\n",
    "    return int(np.ceil(age))"
   ]
  },
  {
   "cell_type": "code",
   "execution_count": 6,
   "metadata": {},
   "outputs": [],
   "source": [
    "dft = df.copy()"
   ]
  },
  {
   "cell_type": "code",
   "execution_count": 7,
   "metadata": {},
   "outputs": [],
   "source": [
    "dft['Age'] = dft['Age'].apply(age_rounder)"
   ]
  },
  {
   "cell_type": "code",
   "execution_count": 8,
   "metadata": {},
   "outputs": [],
   "source": [
    "ohe = OneHotEncoder(sparse_output=False)\n",
    "gender_encoded = pd.DataFrame(ohe.fit_transform(df[['Gender']]),columns=ohe.get_feature_names_out())"
   ]
  },
  {
   "cell_type": "code",
   "execution_count": 9,
   "metadata": {},
   "outputs": [],
   "source": [
    "dft = pd.concat([dft.drop(['Gender'],axis=1),gender_encoded],axis=1)"
   ]
  },
  {
   "cell_type": "code",
   "execution_count": 10,
   "metadata": {},
   "outputs": [],
   "source": [
    "dft['Weight'] = np.round(dft['Weight'],2)\n",
    "dft['Height'] = np.round(dft['Height'],2)"
   ]
  },
  {
   "cell_type": "code",
   "execution_count": 11,
   "metadata": {},
   "outputs": [
    {
     "data": {
      "text/plain": [
       "family_history_with_overweight\n",
       "yes    18739\n",
       "no      4129\n",
       "Name: count, dtype: int64"
      ]
     },
     "execution_count": 11,
     "metadata": {},
     "output_type": "execute_result"
    }
   ],
   "source": [
    "dft.family_history_with_overweight.value_counts()"
   ]
  },
  {
   "cell_type": "code",
   "execution_count": 12,
   "metadata": {},
   "outputs": [],
   "source": [
    "dft['family_history_with_overweight'] = dft['family_history_with_overweight'].map({'yes':0,'no':1})"
   ]
  },
  {
   "cell_type": "code",
   "execution_count": 13,
   "metadata": {},
   "outputs": [
    {
     "data": {
      "text/plain": [
       "FAVC\n",
       "yes    20847\n",
       "no      2021\n",
       "Name: count, dtype: int64"
      ]
     },
     "execution_count": 13,
     "metadata": {},
     "output_type": "execute_result"
    }
   ],
   "source": [
    "dft.FAVC.value_counts()"
   ]
  },
  {
   "cell_type": "code",
   "execution_count": 14,
   "metadata": {},
   "outputs": [],
   "source": [
    "dft['FAVC'] = dft['FAVC'].map({'yes':0,'no':1})"
   ]
  },
  {
   "cell_type": "code",
   "execution_count": 15,
   "metadata": {},
   "outputs": [
    {
     "data": {
      "text/plain": [
       "FCVC\n",
       "3.000000    8310\n",
       "2.000000    8252\n",
       "1.000000     308\n",
       "2.967300     123\n",
       "2.766612      55\n",
       "            ... \n",
       "2.038774       1\n",
       "2.503244       1\n",
       "2.165408       1\n",
       "2.988668       1\n",
       "2.525884       1\n",
       "Name: count, Length: 975, dtype: int64"
      ]
     },
     "execution_count": 15,
     "metadata": {},
     "output_type": "execute_result"
    }
   ],
   "source": [
    "dft['FCVC'].value_counts()"
   ]
  },
  {
   "cell_type": "code",
   "execution_count": 16,
   "metadata": {},
   "outputs": [
    {
     "data": {
      "text/plain": [
       "array([[<Axes: title={'center': 'FCVC'}>]], dtype=object)"
      ]
     },
     "execution_count": 16,
     "metadata": {},
     "output_type": "execute_result"
    },
    {
     "data": {
      "image/png": "[encoded data removed]",
      "text/plain": [
       "<Figure size 640x480 with 1 Axes>"
      ]
     },
     "metadata": {},
     "output_type": "display_data"
    }
   ],
   "source": [
    "dft.hist('FCVC')"
   ]
  },
  {
   "cell_type": "code",
   "execution_count": 17,
   "metadata": {},
   "outputs": [],
   "source": [
    "def rounder(value:float)->int:\n",
    "    if value-int(value) <= 0.5:\n",
    "        rounded_value = int(np.floor(value))\n",
    "    elif value-int(value) > 0.5:\n",
    "        rounded_value = int(np.ceil(value))\n",
    "    else:\n",
    "        rounded_value = int(value)\n",
    "\n",
    "    return rounded_value"
   ]
  },
  {
   "cell_type": "code",
   "execution_count": 18,
   "metadata": {},
   "outputs": [],
   "source": [
    "dft['FCVC'] = dft['FCVC'].apply(rounder)"
   ]
  },
  {
   "cell_type": "code",
   "execution_count": 19,
   "metadata": {},
   "outputs": [
    {
     "data": {
      "text/plain": [
       "FCVC\n",
       "3    11088\n",
       "2    10923\n",
       "1      857\n",
       "Name: count, dtype: int64"
      ]
     },
     "execution_count": 19,
     "metadata": {},
     "output_type": "execute_result"
    }
   ],
   "source": [
    "dft['FCVC'].value_counts()"
   ]
  },
  {
   "cell_type": "code",
   "execution_count": 20,
   "metadata": {},
   "outputs": [
    {
     "data": {
      "text/plain": [
       "array([[<Axes: title={'center': 'NCP'}>]], dtype=object)"
      ]
     },
     "execution_count": 20,
     "metadata": {},
     "output_type": "execute_result"
    },
    {
     "data": {
      "image/png": "[encoded data removed]",
      "text/plain": [
       "<Figure size 640x480 with 1 Axes>"
      ]
     },
     "metadata": {},
     "output_type": "display_data"
    }
   ],
   "source": [
    "dft.hist('NCP')"
   ]
  },
  {
   "cell_type": "code",
   "execution_count": 21,
   "metadata": {},
   "outputs": [],
   "source": [
    "dft['NCP'] = dft['NCP'].apply(rounder)"
   ]
  },
  {
   "cell_type": "code",
   "execution_count": 22,
   "metadata": {},
   "outputs": [
    {
     "data": {
      "text/plain": [
       "NCP\n",
       "3    17779\n",
       "1     2825\n",
       "4     1189\n",
       "2     1075\n",
       "Name: count, dtype: int64"
      ]
     },
     "execution_count": 22,
     "metadata": {},
     "output_type": "execute_result"
    }
   ],
   "source": [
    "dft['NCP'].value_counts()"
   ]
  },
  {
   "cell_type": "code",
   "execution_count": 23,
   "metadata": {},
   "outputs": [
    {
     "data": {
      "text/plain": [
       "CAEC\n",
       "Sometimes     19294\n",
       "Frequently     2713\n",
       "Always          531\n",
       "no              330\n",
       "Name: count, dtype: int64"
      ]
     },
     "execution_count": 23,
     "metadata": {},
     "output_type": "execute_result"
    }
   ],
   "source": [
    "dft['CAEC'].value_counts()"
   ]
  },
  {
   "cell_type": "code",
   "execution_count": 24,
   "metadata": {},
   "outputs": [],
   "source": [
    "dft['CAEC'] = dft['CAEC'].map({'Sometimes':0,'Frequently':1,'Always':2,'no':3})"
   ]
  },
  {
   "cell_type": "code",
   "execution_count": 25,
   "metadata": {},
   "outputs": [
    {
     "data": {
      "text/plain": [
       "SMOKE\n",
       "no     22579\n",
       "yes      289\n",
       "Name: count, dtype: int64"
      ]
     },
     "execution_count": 25,
     "metadata": {},
     "output_type": "execute_result"
    }
   ],
   "source": [
    "dft['SMOKE'].value_counts()"
   ]
  },
  {
   "cell_type": "code",
   "execution_count": 26,
   "metadata": {},
   "outputs": [],
   "source": [
    "dft['SMOKE'] = dft['SMOKE'].map({'no':0,'yes':1})"
   ]
  },
  {
   "cell_type": "code",
   "execution_count": 27,
   "metadata": {},
   "outputs": [
    {
     "data": {
      "text/plain": [
       "array([[<Axes: title={'center': 'CH2O'}>]], dtype=object)"
      ]
     },
     "execution_count": 27,
     "metadata": {},
     "output_type": "execute_result"
    },
    {
     "data": {
      "image/png": "[encoded data removed]",
      "text/plain": [
       "<Figure size 640x480 with 1 Axes>"
      ]
     },
     "metadata": {},
     "output_type": "display_data"
    }
   ],
   "source": [
    "dft.hist('CH2O')"
   ]
  },
  {
   "cell_type": "code",
   "execution_count": 28,
   "metadata": {},
   "outputs": [],
   "source": [
    "def water_mapper(value:float)->float:\n",
    "    accepted_vals = [0.5,0.75,1,1.25,1.5,1.75,2,2.25,2.5,2.75,3]\n",
    "    decimal_value = value - int(value)\n",
    "    if value not in accepted_vals:\n",
    "        if decimal_value < 0.25:\n",
    "            abs1 = abs(0-decimal_value)\n",
    "            abs2 = abs(0.25-decimal_value)\n",
    "            decimal_part = 0 if abs1<abs2 else 0.25\n",
    "            water_value = int(value) + decimal_part\n",
    "        elif decimal_value > 0.25 and decimal_value < 0.5:\n",
    "            abs1 = abs(0.25-decimal_value)\n",
    "            abs2 = abs(0.5-decimal_value)\n",
    "            decimal_part = 0.25 if abs1<abs2 else 0.5\n",
    "            water_value = int(value) + decimal_part\n",
    "        elif decimal_value > 0.5 and decimal_value < 0.75:\n",
    "            abs1 = abs(0.5-decimal_value)\n",
    "            abs2 = abs(0.75-decimal_value)\n",
    "            decimal_part = 0.5 if abs1<abs2 else 0.75\n",
    "            water_value = int(value) + decimal_part\n",
    "        elif decimal_value > 0.75:\n",
    "            abs1 = abs(0.75-decimal_value)\n",
    "            abs2 = abs(1-decimal_value)\n",
    "            decimal_part = 0.75 if abs1<abs2 else 1\n",
    "            water_value = int(value) + decimal_part\n",
    "    else:\n",
    "        water_value = value\n",
    "\n",
    "    return water_value"
   ]
  },
  {
   "cell_type": "code",
   "execution_count": 29,
   "metadata": {},
   "outputs": [],
   "source": [
    "dft['CH2O'] = dft['CH2O'].apply(water_mapper)"
   ]
  },
  {
   "cell_type": "code",
   "execution_count": 30,
   "metadata": {},
   "outputs": [
    {
     "data": {
      "text/plain": [
       "SCC\n",
       "no     22085\n",
       "yes      783\n",
       "Name: count, dtype: int64"
      ]
     },
     "execution_count": 30,
     "metadata": {},
     "output_type": "execute_result"
    }
   ],
   "source": [
    "dft['SCC'].value_counts()"
   ]
  },
  {
   "cell_type": "code",
   "execution_count": 31,
   "metadata": {},
   "outputs": [],
   "source": [
    "dft['SCC'] = dft['SCC'].map({'no':0,'yes':1})"
   ]
  },
  {
   "cell_type": "code",
   "execution_count": 32,
   "metadata": {},
   "outputs": [
    {
     "data": {
      "text/plain": [
       "FAF\n",
       "0.000000    5455\n",
       "1.000000    4330\n",
       "2.000000    2574\n",
       "3.000000     875\n",
       "1.097905      58\n",
       "            ... \n",
       "2.094479       1\n",
       "1.305632       1\n",
       "1.949080       1\n",
       "0.455422       1\n",
       "1.094035       1\n",
       "Name: count, Length: 1408, dtype: int64"
      ]
     },
     "execution_count": 32,
     "metadata": {},
     "output_type": "execute_result"
    }
   ],
   "source": [
    "dft['FAF'].value_counts()"
   ]
  },
  {
   "cell_type": "code",
   "execution_count": 33,
   "metadata": {},
   "outputs": [
    {
     "data": {
      "text/plain": [
       "array([[<Axes: title={'center': 'FAF'}>]], dtype=object)"
      ]
     },
     "execution_count": 33,
     "metadata": {},
     "output_type": "execute_result"
    },
    {
     "data": {
      "image/png": "[encoded data removed]",
      "text/plain": [
       "<Figure size 640x480 with 1 Axes>"
      ]
     },
     "metadata": {},
     "output_type": "display_data"
    }
   ],
   "source": [
    "dft.hist('FAF')"
   ]
  },
  {
   "cell_type": "code",
   "execution_count": 34,
   "metadata": {},
   "outputs": [],
   "source": [
    "dft['FAF'] = dft['FAF'].apply(rounder)"
   ]
  },
  {
   "cell_type": "code",
   "execution_count": 35,
   "metadata": {},
   "outputs": [
    {
     "data": {
      "text/plain": [
       "<Axes: >"
      ]
     },
     "execution_count": 35,
     "metadata": {},
     "output_type": "execute_result"
    },
    {
     "data": {
      "image/png": "[encoded data removed]",
      "text/plain": [
       "<Figure size 640x480 with 1 Axes>"
      ]
     },
     "metadata": {},
     "output_type": "display_data"
    }
   ],
   "source": [
    "dft['TUE'].hist()"
   ]
  },
  {
   "cell_type": "code",
   "execution_count": 36,
   "metadata": {},
   "outputs": [],
   "source": [
    "dft['TUE'] = dft['TUE'].apply(rounder)"
   ]
  },
  {
   "cell_type": "code",
   "execution_count": 37,
   "metadata": {},
   "outputs": [
    {
     "data": {
      "text/plain": [
       "CALC\n",
       "Sometimes     16467\n",
       "no             5802\n",
       "Frequently      599\n",
       "Name: count, dtype: int64"
      ]
     },
     "execution_count": 37,
     "metadata": {},
     "output_type": "execute_result"
    }
   ],
   "source": [
    "dft['CALC'].value_counts()"
   ]
  },
  {
   "cell_type": "code",
   "execution_count": 38,
   "metadata": {},
   "outputs": [],
   "source": [
    "dft['CALC'] = dft['CALC'].map({'Sometimes':0,'no':1,'Frequently':1})"
   ]
  },
  {
   "cell_type": "code",
   "execution_count": 39,
   "metadata": {},
   "outputs": [
    {
     "data": {
      "text/plain": [
       "NObeyesdad\n",
       "Obesity_Type_III       4370\n",
       "Obesity_Type_II        3545\n",
       "Normal_Weight          3368\n",
       "Obesity_Type_I         3261\n",
       "Overweight_Level_II    2812\n",
       "Insufficient_Weight    2795\n",
       "Overweight_Level_I     2717\n",
       "Name: count, dtype: int64"
      ]
     },
     "execution_count": 39,
     "metadata": {},
     "output_type": "execute_result"
    }
   ],
   "source": [
    "dft['NObeyesdad'].value_counts()"
   ]
  },
  {
   "cell_type": "code",
   "execution_count": 40,
   "metadata": {},
   "outputs": [],
   "source": [
    "target_col_map = {\n",
    "    'Insufficient_Weight':0,\n",
    "    'Normal_Weight':1,\n",
    "    'Overweight_Level_I':2,\n",
    "    'Overweight_Level_II':3,\n",
    "    'Obesity_Type_I':4,\n",
    "    'Obesity_Type_II':5,\n",
    "    'Obesity_Type_III':6\n",
    "}"
   ]
  },
  {
   "cell_type": "code",
   "execution_count": 41,
   "metadata": {},
   "outputs": [],
   "source": [
    "dft['NObeyesdad'] = dft['NObeyesdad'].map(target_col_map)"
   ]
  },
  {
   "cell_type": "code",
   "execution_count": 42,
   "metadata": {},
   "outputs": [
    {
     "data": {
      "text/html": [
       "<div>\n",
       "<style scoped>\n",
       "    .dataframe tbody tr th:only-of-type {\n",
       "        vertical-align: middle;\n",
       "    }\n",
       "\n",
       "    .dataframe tbody tr th {\n",
       "        vertical-align: top;\n",
       "    }\n",
       "\n",
       "    .dataframe thead th {\n",
       "        text-align: right;\n",
       "    }\n",
       "</style>\n",
       "<table border=\"1\" class=\"dataframe\">\n",
       "  <thead>\n",
       "    <tr style=\"text-align: right;\">\n",
       "      <th></th>\n",
       "      <th>Age</th>\n",
       "      <th>Height</th>\n",
       "      <th>Weight</th>\n",
       "      <th>family_history_with_overweight</th>\n",
       "      <th>FAVC</th>\n",
       "      <th>FCVC</th>\n",
       "      <th>NCP</th>\n",
       "      <th>CAEC</th>\n",
       "      <th>SMOKE</th>\n",
       "      <th>CH2O</th>\n",
       "      <th>SCC</th>\n",
       "      <th>FAF</th>\n",
       "      <th>TUE</th>\n",
       "      <th>CALC</th>\n",
       "      <th>NObeyesdad</th>\n",
       "      <th>Gender_Female</th>\n",
       "      <th>Gender_Male</th>\n",
       "    </tr>\n",
       "  </thead>\n",
       "  <tbody>\n",
       "    <tr>\n",
       "      <th>0</th>\n",
       "      <td>24</td>\n",
       "      <td>1.70</td>\n",
       "      <td>81.67</td>\n",
       "      <td>0</td>\n",
       "      <td>0</td>\n",
       "      <td>2</td>\n",
       "      <td>3</td>\n",
       "      <td>0</td>\n",
       "      <td>0</td>\n",
       "      <td>2.75</td>\n",
       "      <td>0</td>\n",
       "      <td>0</td>\n",
       "      <td>1</td>\n",
       "      <td>0</td>\n",
       "      <td>3</td>\n",
       "      <td>0.0</td>\n",
       "      <td>1.0</td>\n",
       "    </tr>\n",
       "    <tr>\n",
       "      <th>1</th>\n",
       "      <td>18</td>\n",
       "      <td>1.56</td>\n",
       "      <td>57.00</td>\n",
       "      <td>0</td>\n",
       "      <td>0</td>\n",
       "      <td>2</td>\n",
       "      <td>3</td>\n",
       "      <td>1</td>\n",
       "      <td>0</td>\n",
       "      <td>2.00</td>\n",
       "      <td>0</td>\n",
       "      <td>1</td>\n",
       "      <td>1</td>\n",
       "      <td>1</td>\n",
       "      <td>1</td>\n",
       "      <td>1.0</td>\n",
       "      <td>0.0</td>\n",
       "    </tr>\n",
       "    <tr>\n",
       "      <th>2</th>\n",
       "      <td>18</td>\n",
       "      <td>1.71</td>\n",
       "      <td>50.17</td>\n",
       "      <td>0</td>\n",
       "      <td>0</td>\n",
       "      <td>2</td>\n",
       "      <td>1</td>\n",
       "      <td>0</td>\n",
       "      <td>0</td>\n",
       "      <td>2.00</td>\n",
       "      <td>0</td>\n",
       "      <td>1</td>\n",
       "      <td>2</td>\n",
       "      <td>1</td>\n",
       "      <td>0</td>\n",
       "      <td>1.0</td>\n",
       "      <td>0.0</td>\n",
       "    </tr>\n",
       "    <tr>\n",
       "      <th>3</th>\n",
       "      <td>21</td>\n",
       "      <td>1.71</td>\n",
       "      <td>131.27</td>\n",
       "      <td>0</td>\n",
       "      <td>0</td>\n",
       "      <td>3</td>\n",
       "      <td>3</td>\n",
       "      <td>0</td>\n",
       "      <td>0</td>\n",
       "      <td>1.75</td>\n",
       "      <td>0</td>\n",
       "      <td>1</td>\n",
       "      <td>1</td>\n",
       "      <td>0</td>\n",
       "      <td>6</td>\n",
       "      <td>1.0</td>\n",
       "      <td>0.0</td>\n",
       "    </tr>\n",
       "    <tr>\n",
       "      <th>4</th>\n",
       "      <td>31</td>\n",
       "      <td>1.91</td>\n",
       "      <td>93.80</td>\n",
       "      <td>0</td>\n",
       "      <td>0</td>\n",
       "      <td>3</td>\n",
       "      <td>2</td>\n",
       "      <td>0</td>\n",
       "      <td>0</td>\n",
       "      <td>2.00</td>\n",
       "      <td>0</td>\n",
       "      <td>2</td>\n",
       "      <td>1</td>\n",
       "      <td>0</td>\n",
       "      <td>3</td>\n",
       "      <td>0.0</td>\n",
       "      <td>1.0</td>\n",
       "    </tr>\n",
       "  </tbody>\n",
       "</table>\n",
       "</div>"
      ],
      "text/plain": [
       "   Age  Height  Weight  family_history_with_overweight  FAVC  FCVC  NCP  CAEC  \\\n",
       "0   24    1.70   81.67                               0     0     2    3     0   \n",
       "1   18    1.56   57.00                               0     0     2    3     1   \n",
       "2   18    1.71   50.17                               0     0     2    1     0   \n",
       "3   21    1.71  131.27                               0     0     3    3     0   \n",
       "4   31    1.91   93.80                               0     0     3    2     0   \n",
       "\n",
       "   SMOKE  CH2O  SCC  FAF  TUE  CALC  NObeyesdad  Gender_Female  Gender_Male  \n",
       "0      0  2.75    0    0    1     0           3            0.0          1.0  \n",
       "1      0  2.00    0    1    1     1           1            1.0          0.0  \n",
       "2      0  2.00    0    1    2     1           0            1.0          0.0  \n",
       "3      0  1.75    0    1    1     0           6            1.0          0.0  \n",
       "4      0  2.00    0    2    1     0           3            0.0          1.0  "
      ]
     },
     "execution_count": 42,
     "metadata": {},
     "output_type": "execute_result"
    }
   ],
   "source": [
    "dft.head()"
   ]
  },
  {
   "cell_type": "code",
   "execution_count": 43,
   "metadata": {},
   "outputs": [
    {
     "data": {
      "text/plain": [
       "<matplotlib.collections.PathCollection at 0x251053ab070>"
      ]
     },
     "execution_count": 43,
     "metadata": {},
     "output_type": "execute_result"
    },
    {
     "data": {
      "image/png": "[encoded data removed]",
      "text/plain": [
       "<Figure size 640x480 with 1 Axes>"
      ]
     },
     "metadata": {},
     "output_type": "display_data"
    }
   ],
   "source": [
    "plt.scatter(dft['NObeyesdad'].values,dft['Weight'].values)"
   ]
  },
  {
   "cell_type": "code",
   "execution_count": 44,
   "metadata": {},
   "outputs": [
    {
     "data": {
      "image/png": "[encoded data removed]",
      "text/plain": [
       "<Figure size 1000x1000 with 9 Axes>"
      ]
     },
     "metadata": {},
     "output_type": "display_data"
    }
   ],
   "source": [
    "from itertools import product\n",
    "figure,axes = plt.subplots(nrows=3,ncols=3,figsize=(10,10))\n",
    "indices = list(product(range(3),range(3)))\n",
    "for i in zip(range(7),indices):\n",
    "    idf = dft.loc[dft['NObeyesdad']==i[0]]['Weight'].copy()\n",
    "    axes[i[1]].boxplot(idf)\n",
    "    axes[i[1]].set_xticklabels([i[0]])\n",
    "    \n",
    "plt.tight_layout()\n",
    "plt.show()"
   ]
  },
  {
   "cell_type": "code",
   "execution_count": 45,
   "metadata": {},
   "outputs": [
    {
     "data": {
      "text/plain": [
       "5"
      ]
     },
     "execution_count": 45,
     "metadata": {},
     "output_type": "execute_result"
    }
   ],
   "source": [
    "len(dft.loc[(dft['NObeyesdad']==0)&(dft['Weight']>70)])"
   ]
  },
  {
   "cell_type": "code",
   "execution_count": 46,
   "metadata": {},
   "outputs": [],
   "source": [
    "dft.drop(dft.loc[(dft['NObeyesdad']==0)&(dft['Weight']>70)].index,inplace=True)"
   ]
  },
  {
   "cell_type": "code",
   "execution_count": 47,
   "metadata": {},
   "outputs": [
    {
     "data": {
      "text/plain": [
       "2"
      ]
     },
     "execution_count": 47,
     "metadata": {},
     "output_type": "execute_result"
    }
   ],
   "source": [
    "len(dft.loc[(dft['NObeyesdad']==1)&(dft['Weight']>87)])"
   ]
  },
  {
   "cell_type": "code",
   "execution_count": 48,
   "metadata": {},
   "outputs": [],
   "source": [
    "dft.drop(dft.loc[(dft['NObeyesdad']==1)&(dft['Weight']>87)].index,inplace=True)"
   ]
  },
  {
   "cell_type": "code",
   "execution_count": 49,
   "metadata": {},
   "outputs": [
    {
     "data": {
      "text/plain": [
       "6"
      ]
     },
     "execution_count": 49,
     "metadata": {},
     "output_type": "execute_result"
    }
   ],
   "source": [
    "len(dft.loc[(dft['NObeyesdad']==2)&(dft['Weight']<50)])"
   ]
  },
  {
   "cell_type": "code",
   "execution_count": 50,
   "metadata": {},
   "outputs": [],
   "source": [
    "dft.drop(dft.loc[(dft['NObeyesdad']==2)&(dft['Weight']<50)].index,inplace=True)"
   ]
  },
  {
   "cell_type": "code",
   "execution_count": 51,
   "metadata": {},
   "outputs": [
    {
     "data": {
      "text/plain": [
       "5"
      ]
     },
     "execution_count": 51,
     "metadata": {},
     "output_type": "execute_result"
    }
   ],
   "source": [
    "len(dft.loc[(dft['NObeyesdad']==3)&((dft['Weight']<60) | (dft['Weight']>110))])"
   ]
  },
  {
   "cell_type": "code",
   "execution_count": 52,
   "metadata": {},
   "outputs": [],
   "source": [
    "dft.drop(dft.loc[(dft['NObeyesdad']==3)&((dft['Weight']<60) | (dft['Weight']>110))].index,inplace=True)"
   ]
  },
  {
   "cell_type": "code",
   "execution_count": 53,
   "metadata": {},
   "outputs": [
    {
     "data": {
      "text/plain": [
       "3"
      ]
     },
     "execution_count": 53,
     "metadata": {},
     "output_type": "execute_result"
    }
   ],
   "source": [
    "len(dft.loc[(dft['NObeyesdad']==4)&((dft['Weight']<50) | (dft['Weight']>140))])"
   ]
  },
  {
   "cell_type": "code",
   "execution_count": 54,
   "metadata": {},
   "outputs": [],
   "source": [
    "dft.drop(dft.loc[(dft['NObeyesdad']==4)&((dft['Weight']<50) | (dft['Weight']>140))].index,inplace=True)"
   ]
  },
  {
   "cell_type": "code",
   "execution_count": 55,
   "metadata": {},
   "outputs": [
    {
     "data": {
      "text/plain": [
       "16"
      ]
     },
     "execution_count": 55,
     "metadata": {},
     "output_type": "execute_result"
    }
   ],
   "source": [
    "len(dft.loc[(dft['NObeyesdad']==5)&(dft['Weight']<90)])"
   ]
  },
  {
   "cell_type": "code",
   "execution_count": 56,
   "metadata": {},
   "outputs": [],
   "source": [
    "dft.drop(dft.loc[(dft['NObeyesdad']==5)&(dft['Weight']<90)].index,inplace=True)"
   ]
  },
  {
   "cell_type": "code",
   "execution_count": 57,
   "metadata": {},
   "outputs": [
    {
     "data": {
      "text/plain": [
       "4"
      ]
     },
     "execution_count": 57,
     "metadata": {},
     "output_type": "execute_result"
    }
   ],
   "source": [
    "len(dft.loc[(dft['NObeyesdad']==6)&(dft['Weight']<80)])"
   ]
  },
  {
   "cell_type": "code",
   "execution_count": 58,
   "metadata": {},
   "outputs": [],
   "source": [
    "dft.drop(dft.loc[(dft['NObeyesdad']==6)&(dft['Weight']<80)].index,inplace=True)"
   ]
  },
  {
   "cell_type": "code",
   "execution_count": 59,
   "metadata": {},
   "outputs": [
    {
     "data": {
      "text/plain": [
       "41"
      ]
     },
     "execution_count": 59,
     "metadata": {},
     "output_type": "execute_result"
    }
   ],
   "source": [
    "len(df) - len(dft)"
   ]
  },
  {
   "cell_type": "code",
   "execution_count": 60,
   "metadata": {},
   "outputs": [
    {
     "data": {
      "text/plain": [
       "3804.5"
      ]
     },
     "execution_count": 60,
     "metadata": {},
     "output_type": "execute_result"
    }
   ],
   "source": [
    "len(dft)/6"
   ]
  },
  {
   "cell_type": "code",
   "execution_count": 61,
   "metadata": {},
   "outputs": [
    {
     "data": {
      "text/html": [
       "<div>\n",
       "<style scoped>\n",
       "    .dataframe tbody tr th:only-of-type {\n",
       "        vertical-align: middle;\n",
       "    }\n",
       "\n",
       "    .dataframe tbody tr th {\n",
       "        vertical-align: top;\n",
       "    }\n",
       "\n",
       "    .dataframe thead th {\n",
       "        text-align: right;\n",
       "    }\n",
       "</style>\n",
       "<table border=\"1\" class=\"dataframe\">\n",
       "  <thead>\n",
       "    <tr style=\"text-align: right;\">\n",
       "      <th></th>\n",
       "      <th>Age</th>\n",
       "      <th>Height</th>\n",
       "      <th>Weight</th>\n",
       "      <th>family_history_with_overweight</th>\n",
       "      <th>FAVC</th>\n",
       "      <th>FCVC</th>\n",
       "      <th>NCP</th>\n",
       "      <th>CAEC</th>\n",
       "      <th>SMOKE</th>\n",
       "      <th>CH2O</th>\n",
       "      <th>SCC</th>\n",
       "      <th>FAF</th>\n",
       "      <th>TUE</th>\n",
       "      <th>CALC</th>\n",
       "      <th>NObeyesdad</th>\n",
       "      <th>Gender_Female</th>\n",
       "      <th>Gender_Male</th>\n",
       "    </tr>\n",
       "  </thead>\n",
       "  <tbody>\n",
       "    <tr>\n",
       "      <th>0</th>\n",
       "      <td>24</td>\n",
       "      <td>1.70</td>\n",
       "      <td>81.67</td>\n",
       "      <td>0</td>\n",
       "      <td>0</td>\n",
       "      <td>2</td>\n",
       "      <td>3</td>\n",
       "      <td>0</td>\n",
       "      <td>0</td>\n",
       "      <td>2.75</td>\n",
       "      <td>0</td>\n",
       "      <td>0</td>\n",
       "      <td>1</td>\n",
       "      <td>0</td>\n",
       "      <td>3</td>\n",
       "      <td>0.0</td>\n",
       "      <td>1.0</td>\n",
       "    </tr>\n",
       "    <tr>\n",
       "      <th>1</th>\n",
       "      <td>18</td>\n",
       "      <td>1.56</td>\n",
       "      <td>57.00</td>\n",
       "      <td>0</td>\n",
       "      <td>0</td>\n",
       "      <td>2</td>\n",
       "      <td>3</td>\n",
       "      <td>1</td>\n",
       "      <td>0</td>\n",
       "      <td>2.00</td>\n",
       "      <td>0</td>\n",
       "      <td>1</td>\n",
       "      <td>1</td>\n",
       "      <td>1</td>\n",
       "      <td>1</td>\n",
       "      <td>1.0</td>\n",
       "      <td>0.0</td>\n",
       "    </tr>\n",
       "    <tr>\n",
       "      <th>2</th>\n",
       "      <td>18</td>\n",
       "      <td>1.71</td>\n",
       "      <td>50.17</td>\n",
       "      <td>0</td>\n",
       "      <td>0</td>\n",
       "      <td>2</td>\n",
       "      <td>1</td>\n",
       "      <td>0</td>\n",
       "      <td>0</td>\n",
       "      <td>2.00</td>\n",
       "      <td>0</td>\n",
       "      <td>1</td>\n",
       "      <td>2</td>\n",
       "      <td>1</td>\n",
       "      <td>0</td>\n",
       "      <td>1.0</td>\n",
       "      <td>0.0</td>\n",
       "    </tr>\n",
       "    <tr>\n",
       "      <th>3</th>\n",
       "      <td>21</td>\n",
       "      <td>1.71</td>\n",
       "      <td>131.27</td>\n",
       "      <td>0</td>\n",
       "      <td>0</td>\n",
       "      <td>3</td>\n",
       "      <td>3</td>\n",
       "      <td>0</td>\n",
       "      <td>0</td>\n",
       "      <td>1.75</td>\n",
       "      <td>0</td>\n",
       "      <td>1</td>\n",
       "      <td>1</td>\n",
       "      <td>0</td>\n",
       "      <td>6</td>\n",
       "      <td>1.0</td>\n",
       "      <td>0.0</td>\n",
       "    </tr>\n",
       "    <tr>\n",
       "      <th>4</th>\n",
       "      <td>31</td>\n",
       "      <td>1.91</td>\n",
       "      <td>93.80</td>\n",
       "      <td>0</td>\n",
       "      <td>0</td>\n",
       "      <td>3</td>\n",
       "      <td>2</td>\n",
       "      <td>0</td>\n",
       "      <td>0</td>\n",
       "      <td>2.00</td>\n",
       "      <td>0</td>\n",
       "      <td>2</td>\n",
       "      <td>1</td>\n",
       "      <td>0</td>\n",
       "      <td>3</td>\n",
       "      <td>0.0</td>\n",
       "      <td>1.0</td>\n",
       "    </tr>\n",
       "  </tbody>\n",
       "</table>\n",
       "</div>"
      ],
      "text/plain": [
       "   Age  Height  Weight  family_history_with_overweight  FAVC  FCVC  NCP  CAEC  \\\n",
       "0   24    1.70   81.67                               0     0     2    3     0   \n",
       "1   18    1.56   57.00                               0     0     2    3     1   \n",
       "2   18    1.71   50.17                               0     0     2    1     0   \n",
       "3   21    1.71  131.27                               0     0     3    3     0   \n",
       "4   31    1.91   93.80                               0     0     3    2     0   \n",
       "\n",
       "   SMOKE  CH2O  SCC  FAF  TUE  CALC  NObeyesdad  Gender_Female  Gender_Male  \n",
       "0      0  2.75    0    0    1     0           3            0.0          1.0  \n",
       "1      0  2.00    0    1    1     1           1            1.0          0.0  \n",
       "2      0  2.00    0    1    2     1           0            1.0          0.0  \n",
       "3      0  1.75    0    1    1     0           6            1.0          0.0  \n",
       "4      0  2.00    0    2    1     0           3            0.0          1.0  "
      ]
     },
     "execution_count": 61,
     "metadata": {},
     "output_type": "execute_result"
    }
   ],
   "source": [
    "dft.head()"
   ]
  },
  {
   "cell_type": "code",
   "execution_count": 62,
   "metadata": {},
   "outputs": [],
   "source": [
    "mods_dict = {\n",
    "    'DecisionTreeClassifier': DecisionTreeClassifier(random_state=42),\n",
    "    'RandomForestClassifier': RandomForestClassifier(random_state=42),\n",
    "    'AdaBoostClassifier': AdaBoostClassifier(random_state=42),\n",
    "    'GradientBoostingClassifier': GradientBoostingClassifier(random_state=42),\n",
    "    'KNeighborsClassifier': KNeighborsClassifier(),\n",
    "    'xgboost': xgb.XGBClassifier(random_state=42),\n",
    "    'lightboost': lgb.LGBMClassifier(random_state=42)\n",
    "}"
   ]
  },
  {
   "cell_type": "code",
   "execution_count": 63,
   "metadata": {},
   "outputs": [],
   "source": [
    "mod_scores_dict = {}"
   ]
  },
  {
   "cell_type": "code",
   "execution_count": 64,
   "metadata": {},
   "outputs": [],
   "source": [
    "X = dft.drop(['NObeyesdad'],axis=1)\n",
    "y = dft['NObeyesdad'].copy()"
   ]
  },
  {
   "cell_type": "code",
   "execution_count": 65,
   "metadata": {},
   "outputs": [],
   "source": [
    "# for key in tqdm(mods_dict):\n",
    "#     for scaler in [StandardScaler(),MinMaxScaler(),RobustScaler()]:\n",
    "#         model = mods_dict[key]\n",
    "#         cv_obj = StratifiedKFold(n_splits=6,shuffle=True,random_state=42)\n",
    "#         mod_pipe = Pipeline(\n",
    "#             steps=[\n",
    "#                 ('scaling',scaler),\n",
    "#                 ('model',model)\n",
    "#             ]\n",
    "#         )\n",
    "#         cv_results = cross_validate(mod_pipe,X,y,scoring=['accuracy','f1_micro','roc_auc_ovr','roc_auc_ovo'],cv=cv_obj,n_jobs=8)\n",
    "#         result = {}\n",
    "\n",
    "#         for item in cv_results:\n",
    "#             result[item] = cv_results[item].mean()\n",
    "\n",
    "#         mod_scores_dict[f'{key}_{scaler}'] = result"
   ]
  },
  {
   "cell_type": "code",
   "execution_count": 66,
   "metadata": {},
   "outputs": [],
   "source": [
    "# mod_results = pd.DataFrame(mod_scores_dict)"
   ]
  },
  {
   "cell_type": "code",
   "execution_count": 67,
   "metadata": {},
   "outputs": [],
   "source": [
    "# def highlight_max_min(s):\n",
    "#     is_max = s == s.max()\n",
    "#     is_min = s == s.min()\n",
    "#     return ['background-color: red' if v else 'background-color: coral' if m else '' for v, m in zip(is_max, is_min)]"
   ]
  },
  {
   "cell_type": "code",
   "execution_count": 68,
   "metadata": {},
   "outputs": [],
   "source": [
    "# styled_df = mod_results.transpose().style.apply(highlight_max_min)"
   ]
  },
  {
   "cell_type": "code",
   "execution_count": 70,
   "metadata": {},
   "outputs": [
    {
     "data": {
      "text/html": [
       "<style type=\"text/css\">\n",
       "#T_f3ce5_row0_col0, #T_f3ce5_row2_col0 {\n",
       "  background-color: #edf8ea;\n",
       "  color: #000000;\n",
       "}\n",
       "#T_f3ce5_row0_col1 {\n",
       "  background-color: #f2faf0;\n",
       "  color: #000000;\n",
       "  background-color: coral;\n",
       "}\n",
       "#T_f3ce5_row0_col2, #T_f3ce5_row0_col3, #T_f3ce5_row1_col2, #T_f3ce5_row1_col3, #T_f3ce5_row2_col2, #T_f3ce5_row2_col3 {\n",
       "  background-color: #067230;\n",
       "  color: #f1f1f1;\n",
       "}\n",
       "#T_f3ce5_row0_col4, #T_f3ce5_row0_col5, #T_f3ce5_row1_col4, #T_f3ce5_row1_col5, #T_f3ce5_row2_col4, #T_f3ce5_row2_col5, #T_f3ce5_row9_col2, #T_f3ce5_row9_col3, #T_f3ce5_row10_col2, #T_f3ce5_row10_col3, #T_f3ce5_row11_col2, #T_f3ce5_row11_col3, #T_f3ce5_row13_col5, #T_f3ce5_row15_col2, #T_f3ce5_row15_col3, #T_f3ce5_row16_col2, #T_f3ce5_row16_col3, #T_f3ce5_row17_col2, #T_f3ce5_row17_col3, #T_f3ce5_row18_col2, #T_f3ce5_row18_col3, #T_f3ce5_row19_col2, #T_f3ce5_row19_col3 {\n",
       "  background-color: #006227;\n",
       "  color: #f1f1f1;\n",
       "}\n",
       "#T_f3ce5_row1_col0 {\n",
       "  background-color: #eff9eb;\n",
       "  color: #000000;\n",
       "}\n",
       "#T_f3ce5_row1_col1 {\n",
       "  background-color: #f2faf0;\n",
       "  color: #000000;\n",
       "}\n",
       "#T_f3ce5_row2_col1 {\n",
       "  background-color: #f2faef;\n",
       "  color: #000000;\n",
       "}\n",
       "#T_f3ce5_row3_col0, #T_f3ce5_row4_col0, #T_f3ce5_row5_col0, #T_f3ce5_row9_col0, #T_f3ce5_row10_col0, #T_f3ce5_row15_col0, #T_f3ce5_row16_col0, #T_f3ce5_row17_col0, #T_f3ce5_row18_col0, #T_f3ce5_row19_col0, #T_f3ce5_row20_col0 {\n",
       "  background-color: #00441b;\n",
       "  color: #f1f1f1;\n",
       "}\n",
       "#T_f3ce5_row3_col1 {\n",
       "  background-color: #dff3da;\n",
       "  color: #000000;\n",
       "}\n",
       "#T_f3ce5_row3_col2, #T_f3ce5_row3_col3, #T_f3ce5_row4_col2, #T_f3ce5_row4_col3, #T_f3ce5_row5_col2, #T_f3ce5_row5_col3 {\n",
       "  background-color: #006328;\n",
       "  color: #f1f1f1;\n",
       "}\n",
       "#T_f3ce5_row3_col4, #T_f3ce5_row3_col5, #T_f3ce5_row4_col4, #T_f3ce5_row4_col5, #T_f3ce5_row5_col4, #T_f3ce5_row5_col5, #T_f3ce5_row9_col4, #T_f3ce5_row9_col5, #T_f3ce5_row10_col4, #T_f3ce5_row10_col5, #T_f3ce5_row11_col4, #T_f3ce5_row11_col5 {\n",
       "  background-color: #00481d;\n",
       "  color: #f1f1f1;\n",
       "}\n",
       "#T_f3ce5_row4_col1, #T_f3ce5_row5_col1 {\n",
       "  background-color: #e0f3db;\n",
       "  color: #000000;\n",
       "}\n",
       "#T_f3ce5_row6_col0 {\n",
       "  background-color: #1c8540;\n",
       "  color: #f1f1f1;\n",
       "}\n",
       "#T_f3ce5_row6_col1 {\n",
       "  background-color: #ebf7e7;\n",
       "  color: #000000;\n",
       "}\n",
       "#T_f3ce5_row6_col2, #T_f3ce5_row6_col3, #T_f3ce5_row7_col2, #T_f3ce5_row7_col3, #T_f3ce5_row8_col2, #T_f3ce5_row8_col3 {\n",
       "  background-color: #8ed08b;\n",
       "  color: #000000;\n",
       "  background-color: coral;\n",
       "}\n",
       "#T_f3ce5_row6_col4, #T_f3ce5_row7_col4, #T_f3ce5_row8_col4 {\n",
       "  background-color: #1d8640;\n",
       "  color: #f1f1f1;\n",
       "  background-color: coral;\n",
       "}\n",
       "#T_f3ce5_row6_col5, #T_f3ce5_row7_col5, #T_f3ce5_row8_col5 {\n",
       "  background-color: #1a843f;\n",
       "  color: #f1f1f1;\n",
       "  background-color: coral;\n",
       "}\n",
       "#T_f3ce5_row7_col0, #T_f3ce5_row8_col0, #T_f3ce5_row12_col1 {\n",
       "  background-color: #1d8640;\n",
       "  color: #f1f1f1;\n",
       "}\n",
       "#T_f3ce5_row7_col1 {\n",
       "  background-color: #eaf7e6;\n",
       "  color: #000000;\n",
       "}\n",
       "#T_f3ce5_row8_col1, #T_f3ce5_row19_col1 {\n",
       "  background-color: #e9f7e5;\n",
       "  color: #000000;\n",
       "}\n",
       "#T_f3ce5_row9_col1, #T_f3ce5_row11_col1 {\n",
       "  background-color: #e8f6e3;\n",
       "  color: #000000;\n",
       "}\n",
       "#T_f3ce5_row10_col1 {\n",
       "  background-color: #e8f6e4;\n",
       "  color: #000000;\n",
       "}\n",
       "#T_f3ce5_row11_col0 {\n",
       "  background-color: #00441b;\n",
       "  color: #f1f1f1;\n",
       "  background-color: red;\n",
       "}\n",
       "#T_f3ce5_row12_col0 {\n",
       "  background-color: #f5fbf3;\n",
       "  color: #000000;\n",
       "}\n",
       "#T_f3ce5_row12_col2, #T_f3ce5_row12_col3, #T_f3ce5_row13_col1 {\n",
       "  background-color: #228a44;\n",
       "  color: #f1f1f1;\n",
       "}\n",
       "#T_f3ce5_row12_col4, #T_f3ce5_row14_col5 {\n",
       "  background-color: #005e26;\n",
       "  color: #f1f1f1;\n",
       "}\n",
       "#T_f3ce5_row12_col5 {\n",
       "  background-color: #005f26;\n",
       "  color: #f1f1f1;\n",
       "}\n",
       "#T_f3ce5_row13_col0 {\n",
       "  background-color: #f6fcf4;\n",
       "  color: #000000;\n",
       "  background-color: coral;\n",
       "}\n",
       "#T_f3ce5_row13_col2, #T_f3ce5_row13_col3 {\n",
       "  background-color: #278f48;\n",
       "  color: #f1f1f1;\n",
       "}\n",
       "#T_f3ce5_row13_col4 {\n",
       "  background-color: #006027;\n",
       "  color: #f1f1f1;\n",
       "}\n",
       "#T_f3ce5_row14_col0 {\n",
       "  background-color: #f5fbf2;\n",
       "  color: #000000;\n",
       "}\n",
       "#T_f3ce5_row14_col1 {\n",
       "  background-color: #1c8540;\n",
       "  color: #f1f1f1;\n",
       "  background-color: red;\n",
       "}\n",
       "#T_f3ce5_row14_col2, #T_f3ce5_row14_col3 {\n",
       "  background-color: #218944;\n",
       "  color: #f1f1f1;\n",
       "}\n",
       "#T_f3ce5_row14_col4 {\n",
       "  background-color: #005c25;\n",
       "  color: #f1f1f1;\n",
       "}\n",
       "#T_f3ce5_row15_col1 {\n",
       "  background-color: #e5f5e0;\n",
       "  color: #000000;\n",
       "}\n",
       "#T_f3ce5_row15_col4, #T_f3ce5_row15_col5, #T_f3ce5_row16_col4, #T_f3ce5_row16_col5, #T_f3ce5_row17_col4, #T_f3ce5_row17_col5, #T_f3ce5_row18_col4, #T_f3ce5_row18_col5, #T_f3ce5_row19_col4, #T_f3ce5_row19_col5 {\n",
       "  background-color: #00471c;\n",
       "  color: #f1f1f1;\n",
       "}\n",
       "#T_f3ce5_row16_col1 {\n",
       "  background-color: #e4f5df;\n",
       "  color: #000000;\n",
       "}\n",
       "#T_f3ce5_row17_col1, #T_f3ce5_row20_col1 {\n",
       "  background-color: #e5f5e1;\n",
       "  color: #000000;\n",
       "}\n",
       "#T_f3ce5_row18_col1 {\n",
       "  background-color: #e7f6e3;\n",
       "  color: #000000;\n",
       "}\n",
       "#T_f3ce5_row20_col2, #T_f3ce5_row20_col3 {\n",
       "  background-color: #006227;\n",
       "  color: #f1f1f1;\n",
       "  background-color: red;\n",
       "}\n",
       "#T_f3ce5_row20_col4, #T_f3ce5_row20_col5 {\n",
       "  background-color: #00471c;\n",
       "  color: #f1f1f1;\n",
       "  background-color: red;\n",
       "}\n",
       "</style>\n",
       "<table id=\"T_f3ce5\">\n",
       "  <thead>\n",
       "    <tr>\n",
       "      <th class=\"blank level0\" >&nbsp;</th>\n",
       "      <th id=\"T_f3ce5_level0_col0\" class=\"col_heading level0 col0\" >fit_time</th>\n",
       "      <th id=\"T_f3ce5_level0_col1\" class=\"col_heading level0 col1\" >score_time</th>\n",
       "      <th id=\"T_f3ce5_level0_col2\" class=\"col_heading level0 col2\" >test_accuracy</th>\n",
       "      <th id=\"T_f3ce5_level0_col3\" class=\"col_heading level0 col3\" >test_f1_micro</th>\n",
       "      <th id=\"T_f3ce5_level0_col4\" class=\"col_heading level0 col4\" >test_roc_auc_ovr</th>\n",
       "      <th id=\"T_f3ce5_level0_col5\" class=\"col_heading level0 col5\" >test_roc_auc_ovo</th>\n",
       "    </tr>\n",
       "  </thead>\n",
       "  <tbody>\n",
       "    <tr>\n",
       "      <th id=\"T_f3ce5_level0_row0\" class=\"row_heading level0 row0\" >DecisionTreeClassifier_StandardScaler()</th>\n",
       "      <td id=\"T_f3ce5_row0_col0\" class=\"data row0 col0\" >0.069012</td>\n",
       "      <td id=\"T_f3ce5_row0_col1\" class=\"data row0 col1\" >0.033855</td>\n",
       "      <td id=\"T_f3ce5_row0_col2\" class=\"data row0 col2\" >0.853550</td>\n",
       "      <td id=\"T_f3ce5_row0_col3\" class=\"data row0 col3\" >0.853550</td>\n",
       "      <td id=\"T_f3ce5_row0_col4\" class=\"data row0 col4\" >0.908676</td>\n",
       "      <td id=\"T_f3ce5_row0_col5\" class=\"data row0 col5\" >0.907430</td>\n",
       "    </tr>\n",
       "    <tr>\n",
       "      <th id=\"T_f3ce5_level0_row1\" class=\"row_heading level0 row1\" >DecisionTreeClassifier_MinMaxScaler()</th>\n",
       "      <td id=\"T_f3ce5_row1_col0\" class=\"data row1 col0\" >0.059369</td>\n",
       "      <td id=\"T_f3ce5_row1_col1\" class=\"data row1 col1\" >0.033997</td>\n",
       "      <td id=\"T_f3ce5_row1_col2\" class=\"data row1 col2\" >0.853550</td>\n",
       "      <td id=\"T_f3ce5_row1_col3\" class=\"data row1 col3\" >0.853550</td>\n",
       "      <td id=\"T_f3ce5_row1_col4\" class=\"data row1 col4\" >0.908665</td>\n",
       "      <td id=\"T_f3ce5_row1_col5\" class=\"data row1 col5\" >0.907418</td>\n",
       "    </tr>\n",
       "    <tr>\n",
       "      <th id=\"T_f3ce5_level0_row2\" class=\"row_heading level0 row2\" >DecisionTreeClassifier_RobustScaler()</th>\n",
       "      <td id=\"T_f3ce5_row2_col0\" class=\"data row2 col0\" >0.067709</td>\n",
       "      <td id=\"T_f3ce5_row2_col1\" class=\"data row2 col1\" >0.036464</td>\n",
       "      <td id=\"T_f3ce5_row2_col2\" class=\"data row2 col2\" >0.853200</td>\n",
       "      <td id=\"T_f3ce5_row2_col3\" class=\"data row2 col3\" >0.853200</td>\n",
       "      <td id=\"T_f3ce5_row2_col4\" class=\"data row2 col4\" >0.908442</td>\n",
       "      <td id=\"T_f3ce5_row2_col5\" class=\"data row2 col5\" >0.907191</td>\n",
       "    </tr>\n",
       "    <tr>\n",
       "      <th id=\"T_f3ce5_level0_row3\" class=\"row_heading level0 row3\" >RandomForestClassifier_StandardScaler()</th>\n",
       "      <td id=\"T_f3ce5_row3_col0\" class=\"data row3 col0\" >1.503556</td>\n",
       "      <td id=\"T_f3ce5_row3_col1\" class=\"data row3 col1\" >0.148443</td>\n",
       "      <td id=\"T_f3ce5_row3_col2\" class=\"data row3 col2\" >0.903097</td>\n",
       "      <td id=\"T_f3ce5_row3_col3\" class=\"data row3 col3\" >0.903097</td>\n",
       "      <td id=\"T_f3ce5_row3_col4\" class=\"data row3 col4\" >0.987702</td>\n",
       "      <td id=\"T_f3ce5_row3_col5\" class=\"data row3 col5\" >0.986479</td>\n",
       "    </tr>\n",
       "    <tr>\n",
       "      <th id=\"T_f3ce5_level0_row4\" class=\"row_heading level0 row4\" >RandomForestClassifier_MinMaxScaler()</th>\n",
       "      <td id=\"T_f3ce5_row4_col0\" class=\"data row4 col0\" >1.515628</td>\n",
       "      <td id=\"T_f3ce5_row4_col1\" class=\"data row4 col1\" >0.148397</td>\n",
       "      <td id=\"T_f3ce5_row4_col2\" class=\"data row4 col2\" >0.903360</td>\n",
       "      <td id=\"T_f3ce5_row4_col3\" class=\"data row4 col3\" >0.903360</td>\n",
       "      <td id=\"T_f3ce5_row4_col4\" class=\"data row4 col4\" >0.987718</td>\n",
       "      <td id=\"T_f3ce5_row4_col5\" class=\"data row4 col5\" >0.986496</td>\n",
       "    </tr>\n",
       "    <tr>\n",
       "      <th id=\"T_f3ce5_level0_row5\" class=\"row_heading level0 row5\" >RandomForestClassifier_RobustScaler()</th>\n",
       "      <td id=\"T_f3ce5_row5_col0\" class=\"data row5 col0\" >1.533856</td>\n",
       "      <td id=\"T_f3ce5_row5_col1\" class=\"data row5 col1\" >0.145837</td>\n",
       "      <td id=\"T_f3ce5_row5_col2\" class=\"data row5 col2\" >0.903491</td>\n",
       "      <td id=\"T_f3ce5_row5_col3\" class=\"data row5 col3\" >0.903491</td>\n",
       "      <td id=\"T_f3ce5_row5_col4\" class=\"data row5 col4\" >0.987762</td>\n",
       "      <td id=\"T_f3ce5_row5_col5\" class=\"data row5 col5\" >0.986541</td>\n",
       "    </tr>\n",
       "    <tr>\n",
       "      <th id=\"T_f3ce5_level0_row6\" class=\"row_heading level0 row6\" >AdaBoostClassifier_StandardScaler()</th>\n",
       "      <td id=\"T_f3ce5_row6_col0\" class=\"data row6 col0\" >0.773845</td>\n",
       "      <td id=\"T_f3ce5_row6_col1\" class=\"data row6 col1\" >0.083334</td>\n",
       "      <td id=\"T_f3ce5_row6_col2\" class=\"data row6 col2\" >0.426600</td>\n",
       "      <td id=\"T_f3ce5_row6_col3\" class=\"data row6 col3\" >0.426600</td>\n",
       "      <td id=\"T_f3ce5_row6_col4\" class=\"data row6 col4\" >0.769697</td>\n",
       "      <td id=\"T_f3ce5_row6_col5\" class=\"data row6 col5\" >0.781158</td>\n",
       "    </tr>\n",
       "    <tr>\n",
       "      <th id=\"T_f3ce5_level0_row7\" class=\"row_heading level0 row7\" >AdaBoostClassifier_MinMaxScaler()</th>\n",
       "      <td id=\"T_f3ce5_row7_col0\" class=\"data row7 col0\" >0.770203</td>\n",
       "      <td id=\"T_f3ce5_row7_col1\" class=\"data row7 col1\" >0.091694</td>\n",
       "      <td id=\"T_f3ce5_row7_col2\" class=\"data row7 col2\" >0.426600</td>\n",
       "      <td id=\"T_f3ce5_row7_col3\" class=\"data row7 col3\" >0.426600</td>\n",
       "      <td id=\"T_f3ce5_row7_col4\" class=\"data row7 col4\" >0.769697</td>\n",
       "      <td id=\"T_f3ce5_row7_col5\" class=\"data row7 col5\" >0.781158</td>\n",
       "    </tr>\n",
       "    <tr>\n",
       "      <th id=\"T_f3ce5_level0_row8\" class=\"row_heading level0 row8\" >AdaBoostClassifier_RobustScaler()</th>\n",
       "      <td id=\"T_f3ce5_row8_col0\" class=\"data row8 col0\" >0.770266</td>\n",
       "      <td id=\"T_f3ce5_row8_col1\" class=\"data row8 col1\" >0.098979</td>\n",
       "      <td id=\"T_f3ce5_row8_col2\" class=\"data row8 col2\" >0.426600</td>\n",
       "      <td id=\"T_f3ce5_row8_col3\" class=\"data row8 col3\" >0.426600</td>\n",
       "      <td id=\"T_f3ce5_row8_col4\" class=\"data row8 col4\" >0.769697</td>\n",
       "      <td id=\"T_f3ce5_row8_col5\" class=\"data row8 col5\" >0.781158</td>\n",
       "    </tr>\n",
       "    <tr>\n",
       "      <th id=\"T_f3ce5_level0_row9\" class=\"row_heading level0 row9\" >GradientBoostingClassifier_StandardScaler()</th>\n",
       "      <td id=\"T_f3ce5_row9_col0\" class=\"data row9 col0\" >10.532302</td>\n",
       "      <td id=\"T_f3ce5_row9_col1\" class=\"data row9 col1\" >0.108895</td>\n",
       "      <td id=\"T_f3ce5_row9_col2\" class=\"data row9 col2\" >0.907390</td>\n",
       "      <td id=\"T_f3ce5_row9_col3\" class=\"data row9 col3\" >0.907390</td>\n",
       "      <td id=\"T_f3ce5_row9_col4\" class=\"data row9 col4\" >0.987877</td>\n",
       "      <td id=\"T_f3ce5_row9_col5\" class=\"data row9 col5\" >0.986712</td>\n",
       "    </tr>\n",
       "    <tr>\n",
       "      <th id=\"T_f3ce5_level0_row10\" class=\"row_heading level0 row10\" >GradientBoostingClassifier_MinMaxScaler()</th>\n",
       "      <td id=\"T_f3ce5_row10_col0\" class=\"data row10 col0\" >10.652580</td>\n",
       "      <td id=\"T_f3ce5_row10_col1\" class=\"data row10 col1\" >0.104579</td>\n",
       "      <td id=\"T_f3ce5_row10_col2\" class=\"data row10 col2\" >0.907390</td>\n",
       "      <td id=\"T_f3ce5_row10_col3\" class=\"data row10 col3\" >0.907390</td>\n",
       "      <td id=\"T_f3ce5_row10_col4\" class=\"data row10 col4\" >0.987877</td>\n",
       "      <td id=\"T_f3ce5_row10_col5\" class=\"data row10 col5\" >0.986711</td>\n",
       "    </tr>\n",
       "    <tr>\n",
       "      <th id=\"T_f3ce5_level0_row11\" class=\"row_heading level0 row11\" >GradientBoostingClassifier_RobustScaler()</th>\n",
       "      <td id=\"T_f3ce5_row11_col0\" class=\"data row11 col0\" >10.855745</td>\n",
       "      <td id=\"T_f3ce5_row11_col1\" class=\"data row11 col1\" >0.108795</td>\n",
       "      <td id=\"T_f3ce5_row11_col2\" class=\"data row11 col2\" >0.907390</td>\n",
       "      <td id=\"T_f3ce5_row11_col3\" class=\"data row11 col3\" >0.907390</td>\n",
       "      <td id=\"T_f3ce5_row11_col4\" class=\"data row11 col4\" >0.987869</td>\n",
       "      <td id=\"T_f3ce5_row11_col5\" class=\"data row11 col5\" >0.986702</td>\n",
       "    </tr>\n",
       "    <tr>\n",
       "      <th id=\"T_f3ce5_level0_row12\" class=\"row_heading level0 row12\" >KNeighborsClassifier_StandardScaler()</th>\n",
       "      <td id=\"T_f3ce5_row12_col0\" class=\"data row12 col0\" >0.012877</td>\n",
       "      <td id=\"T_f3ce5_row12_col1\" class=\"data row12 col1\" >0.770173</td>\n",
       "      <td id=\"T_f3ce5_row12_col2\" class=\"data row12 col2\" >0.752004</td>\n",
       "      <td id=\"T_f3ce5_row12_col3\" class=\"data row12 col3\" >0.752004</td>\n",
       "      <td id=\"T_f3ce5_row12_col4\" class=\"data row12 col4\" >0.921314</td>\n",
       "      <td id=\"T_f3ce5_row12_col5\" class=\"data row12 col5\" >0.917709</td>\n",
       "    </tr>\n",
       "    <tr>\n",
       "      <th id=\"T_f3ce5_level0_row13\" class=\"row_heading level0 row13\" >KNeighborsClassifier_MinMaxScaler()</th>\n",
       "      <td id=\"T_f3ce5_row13_col0\" class=\"data row13 col0\" >0.010526</td>\n",
       "      <td id=\"T_f3ce5_row13_col1\" class=\"data row13 col1\" >0.752978</td>\n",
       "      <td id=\"T_f3ce5_row13_col2\" class=\"data row13 col2\" >0.731458</td>\n",
       "      <td id=\"T_f3ce5_row13_col3\" class=\"data row13 col3\" >0.731458</td>\n",
       "      <td id=\"T_f3ce5_row13_col4\" class=\"data row13 col4\" >0.911934</td>\n",
       "      <td id=\"T_f3ce5_row13_col5\" class=\"data row13 col5\" >0.907893</td>\n",
       "    </tr>\n",
       "    <tr>\n",
       "      <th id=\"T_f3ce5_level0_row14\" class=\"row_heading level0 row14\" >KNeighborsClassifier_RobustScaler()</th>\n",
       "      <td id=\"T_f3ce5_row14_col0\" class=\"data row14 col0\" >0.017926</td>\n",
       "      <td id=\"T_f3ce5_row14_col1\" class=\"data row14 col1\" >0.775723</td>\n",
       "      <td id=\"T_f3ce5_row14_col2\" class=\"data row14 col2\" >0.756473</td>\n",
       "      <td id=\"T_f3ce5_row14_col3\" class=\"data row14 col3\" >0.756473</td>\n",
       "      <td id=\"T_f3ce5_row14_col4\" class=\"data row14 col4\" >0.923750</td>\n",
       "      <td id=\"T_f3ce5_row14_col5\" class=\"data row14 col5\" >0.920226</td>\n",
       "    </tr>\n",
       "    <tr>\n",
       "      <th id=\"T_f3ce5_level0_row15\" class=\"row_heading level0 row15\" >xgboost_StandardScaler()</th>\n",
       "      <td id=\"T_f3ce5_row15_col0\" class=\"data row15 col0\" >2.754298</td>\n",
       "      <td id=\"T_f3ce5_row15_col1\" class=\"data row15 col1\" >0.125896</td>\n",
       "      <td id=\"T_f3ce5_row15_col2\" class=\"data row15 col2\" >0.908573</td>\n",
       "      <td id=\"T_f3ce5_row15_col3\" class=\"data row15 col3\" >0.908573</td>\n",
       "      <td id=\"T_f3ce5_row15_col4\" class=\"data row15 col4\" >0.990163</td>\n",
       "      <td id=\"T_f3ce5_row15_col5\" class=\"data row15 col5\" >0.989106</td>\n",
       "    </tr>\n",
       "    <tr>\n",
       "      <th id=\"T_f3ce5_level0_row16\" class=\"row_heading level0 row16\" >xgboost_MinMaxScaler()</th>\n",
       "      <td id=\"T_f3ce5_row16_col0\" class=\"data row16 col0\" >1.304654</td>\n",
       "      <td id=\"T_f3ce5_row16_col1\" class=\"data row16 col1\" >0.132089</td>\n",
       "      <td id=\"T_f3ce5_row16_col2\" class=\"data row16 col2\" >0.908573</td>\n",
       "      <td id=\"T_f3ce5_row16_col3\" class=\"data row16 col3\" >0.908573</td>\n",
       "      <td id=\"T_f3ce5_row16_col4\" class=\"data row16 col4\" >0.990163</td>\n",
       "      <td id=\"T_f3ce5_row16_col5\" class=\"data row16 col5\" >0.989106</td>\n",
       "    </tr>\n",
       "    <tr>\n",
       "      <th id=\"T_f3ce5_level0_row17\" class=\"row_heading level0 row17\" >xgboost_RobustScaler()</th>\n",
       "      <td id=\"T_f3ce5_row17_col0\" class=\"data row17 col0\" >1.307097</td>\n",
       "      <td id=\"T_f3ce5_row17_col1\" class=\"data row17 col1\" >0.123082</td>\n",
       "      <td id=\"T_f3ce5_row17_col2\" class=\"data row17 col2\" >0.908573</td>\n",
       "      <td id=\"T_f3ce5_row17_col3\" class=\"data row17 col3\" >0.908573</td>\n",
       "      <td id=\"T_f3ce5_row17_col4\" class=\"data row17 col4\" >0.990163</td>\n",
       "      <td id=\"T_f3ce5_row17_col5\" class=\"data row17 col5\" >0.989106</td>\n",
       "    </tr>\n",
       "    <tr>\n",
       "      <th id=\"T_f3ce5_level0_row18\" class=\"row_heading level0 row18\" >lightboost_StandardScaler()</th>\n",
       "      <td id=\"T_f3ce5_row18_col0\" class=\"data row18 col0\" >3.440305</td>\n",
       "      <td id=\"T_f3ce5_row18_col1\" class=\"data row18 col1\" >0.112669</td>\n",
       "      <td id=\"T_f3ce5_row18_col2\" class=\"data row18 col2\" >0.909230</td>\n",
       "      <td id=\"T_f3ce5_row18_col3\" class=\"data row18 col3\" >0.909230</td>\n",
       "      <td id=\"T_f3ce5_row18_col4\" class=\"data row18 col4\" >0.990122</td>\n",
       "      <td id=\"T_f3ce5_row18_col5\" class=\"data row18 col5\" >0.989047</td>\n",
       "    </tr>\n",
       "    <tr>\n",
       "      <th id=\"T_f3ce5_level0_row19\" class=\"row_heading level0 row19\" >lightboost_MinMaxScaler()</th>\n",
       "      <td id=\"T_f3ce5_row19_col0\" class=\"data row19 col0\" >3.422149</td>\n",
       "      <td id=\"T_f3ce5_row19_col1\" class=\"data row19 col1\" >0.100762</td>\n",
       "      <td id=\"T_f3ce5_row19_col2\" class=\"data row19 col2\" >0.908398</td>\n",
       "      <td id=\"T_f3ce5_row19_col3\" class=\"data row19 col3\" >0.908398</td>\n",
       "      <td id=\"T_f3ce5_row19_col4\" class=\"data row19 col4\" >0.990167</td>\n",
       "      <td id=\"T_f3ce5_row19_col5\" class=\"data row19 col5\" >0.989096</td>\n",
       "    </tr>\n",
       "    <tr>\n",
       "      <th id=\"T_f3ce5_level0_row20\" class=\"row_heading level0 row20\" >lightboost_RobustScaler()</th>\n",
       "      <td id=\"T_f3ce5_row20_col0\" class=\"data row20 col0\" >3.399756</td>\n",
       "      <td id=\"T_f3ce5_row20_col1\" class=\"data row20 col1\" >0.123050</td>\n",
       "      <td id=\"T_f3ce5_row20_col2\" class=\"data row20 col2\" >0.909581</td>\n",
       "      <td id=\"T_f3ce5_row20_col3\" class=\"data row20 col3\" >0.909581</td>\n",
       "      <td id=\"T_f3ce5_row20_col4\" class=\"data row20 col4\" >0.990182</td>\n",
       "      <td id=\"T_f3ce5_row20_col5\" class=\"data row20 col5\" >0.989112</td>\n",
       "    </tr>\n",
       "  </tbody>\n",
       "</table>\n"
      ],
      "text/plain": [
       "<pandas.io.formats.style.Styler at 0x14ada24a910>"
      ]
     },
     "execution_count": 70,
     "metadata": {},
     "output_type": "execute_result"
    }
   ],
   "source": [
    "# mod_results.transpose().style.background_gradient(cmap='Greens',vmax=1,vmin=0).apply(highlight_max_min)"
   ]
  },
  {
   "cell_type": "code",
   "execution_count": 71,
   "metadata": {},
   "outputs": [],
   "source": [
    "# def objective_xgb(trial):\n",
    "#     cv_obj = StratifiedKFold(n_splits=6,shuffle=True,random_state=42)\n",
    "#     params = dict(\n",
    "#         n_estimators = trial.suggest_int('n_estimators',100,500),\n",
    "#         max_leaves = trial.suggest_int('max_leaves',2,128),\n",
    "#         max_depth = trial.suggest_int('max_depth',2,32),\n",
    "#         learning_rate = trial.suggest_float('learning_rate',0.0001,0.2),\n",
    "#         min_child_weight = trial.suggest_float('min_child_weight',0.1,10),\n",
    "#         gamma = trial.suggest_float('gamma',0.001,5),\n",
    "#         subsample = trial.suggest_float('subsample',0.1,1),\n",
    "#         colsample_bytree = trial.suggest_float('colsample_bytree',0.1,1),\n",
    "#         reg_alpha = trial.suggest_float('reg_alpha',0.0001,1),\n",
    "#         reg_lambda = trial.suggest_float('reg_lambda',0.0001,1)\n",
    "#     )\n",
    "\n",
    "#     model = xgb.XGBClassifier(random_state=0,**params)\n",
    "\n",
    "#     mod_pipe = Pipeline(\n",
    "#         steps=[\n",
    "#                 ('scaling',RobustScaler()),\n",
    "#                 ('model',model)\n",
    "#             ]\n",
    "#     )\n",
    "\n",
    "#     score = cross_val_score(mod_pipe,X,y,scoring='accuracy',cv=cv_obj,n_jobs=-1)\n",
    "\n",
    "#     return np.mean(score)"
   ]
  },
  {
   "cell_type": "code",
   "execution_count": 72,
   "metadata": {},
   "outputs": [
    {
     "name": "stderr",
     "output_type": "stream",
     "text": [
      "[I 2024-05-22 13:03:35,891] A new study created in RDB with name: xgb\n"
     ]
    }
   ],
   "source": [
    "# study_xgb = optuna.create_study(direction='maximize',storage='sqlite:///study_xgb.db',study_name='xgb')"
   ]
  },
  {
   "cell_type": "code",
   "execution_count": null,
   "metadata": {},
   "outputs": [],
   "source": [
    "# study_xgb.optimize(objective_xgb,n_trials=500,n_jobs=8,show_progress_bar=True)"
   ]
  },
  {
   "cell_type": "code",
   "execution_count": 74,
   "metadata": {},
   "outputs": [
    {
     "data": {
      "text/plain": [
       "{'n_estimators': 487,\n",
       " 'max_leaves': 49,\n",
       " 'max_depth': 8,\n",
       " 'learning_rate': 0.02908997375000365,\n",
       " 'min_child_weight': 3.2323757201747445,\n",
       " 'gamma': 0.03885029777651042,\n",
       " 'subsample': 0.49277881770678167,\n",
       " 'colsample_bytree': 0.6377228688391385,\n",
       " 'reg_alpha': 0.38644252432386983,\n",
       " 'reg_lambda': 0.6685527048138652}"
      ]
     },
     "execution_count": 74,
     "metadata": {},
     "output_type": "execute_result"
    }
   ],
   "source": [
    "# study_xgb.best_params"
   ]
  },
  {
   "cell_type": "markdown",
   "metadata": {},
   "source": [
    "{'n_estimators': 487,  \n",
    " 'max_leaves': 49,  \n",
    " 'max_depth': 8,  \n",
    " 'learning_rate': 0.02908997375000365,  \n",
    " 'min_child_weight': 3.2323757201747445,  \n",
    " 'gamma': 0.03885029777651042,  \n",
    " 'subsample': 0.49277881770678167,  \n",
    " 'colsample_bytree': 0.6377228688391385,  \n",
    " 'reg_alpha': 0.38644252432386983,  \n",
    " 'reg_lambda': 0.6685527048138652}  \n",
    "\n",
    " 0.9143556152478912  "
   ]
  },
  {
   "cell_type": "code",
   "execution_count": 75,
   "metadata": {},
   "outputs": [
    {
     "data": {
      "text/plain": [
       "0.9143556152478912"
      ]
     },
     "execution_count": 75,
     "metadata": {},
     "output_type": "execute_result"
    }
   ],
   "source": [
    "# study_xgb.best_value"
   ]
  },
  {
   "cell_type": "code",
   "execution_count": 71,
   "metadata": {},
   "outputs": [],
   "source": [
    "# def objective_lgb(trial):\n",
    "#     cv_obj = StratifiedKFold(n_splits=6,shuffle=True,random_state=42)\n",
    "#     params = dict(\n",
    "#         n_estimators = trial.suggest_int('n_estimators',100,500),\n",
    "#         num_leaves = trial.suggest_int('max_leaves',2,128),\n",
    "#         max_depth = trial.suggest_int('max_depth',2,32),\n",
    "#         learning_rate = trial.suggest_float('learning_rate',0.0001,0.2),\n",
    "#         min_child_weight = trial.suggest_float('min_child_weight',0.1,10),\n",
    "#         min_child_samples = trial.suggest_int('min_child_samples',2,100),\n",
    "#         subsample = trial.suggest_float('subsample',0.1,1),\n",
    "#         colsample_bytree = trial.suggest_float('colsample_bytree',0.1,1),\n",
    "#         reg_alpha = trial.suggest_float('reg_alpha',0.0001,1),\n",
    "#         reg_lambda = trial.suggest_float('reg_lambda',0.0001,1)\n",
    "#     )\n",
    "\n",
    "#     model = lgb.LGBMClassifier(random_state=0,**params)\n",
    "\n",
    "#     mod_pipe = Pipeline(\n",
    "#         steps=[\n",
    "#                 ('scaling',RobustScaler()),\n",
    "#                 ('model',model)\n",
    "#             ]\n",
    "#     )\n",
    "\n",
    "#     score = cross_val_score(mod_pipe,X,y,scoring='accuracy',cv=cv_obj,n_jobs=-1)\n",
    "\n",
    "#     return np.mean(score)"
   ]
  },
  {
   "cell_type": "code",
   "execution_count": 72,
   "metadata": {},
   "outputs": [
    {
     "name": "stderr",
     "output_type": "stream",
     "text": [
      "[I 2024-05-22 14:56:34,439] A new study created in RDB with name: lgb\n"
     ]
    }
   ],
   "source": [
    "# study_lgb = optuna.create_study(direction='maximize',storage='sqlite:///study_lgb.db',study_name='lgb',load_if_exists=True)"
   ]
  },
  {
   "cell_type": "code",
   "execution_count": null,
   "metadata": {},
   "outputs": [],
   "source": [
    "# study_lgb.optimize(objective_lgb,n_trials=500,n_jobs=8,show_progress_bar=True)"
   ]
  },
  {
   "cell_type": "code",
   "execution_count": 74,
   "metadata": {},
   "outputs": [
    {
     "data": {
      "text/plain": [
       "{'n_estimators': 344,\n",
       " 'max_leaves': 64,\n",
       " 'max_depth': 30,\n",
       " 'learning_rate': 0.024004536127053,\n",
       " 'min_child_weight': 2.157434806835596,\n",
       " 'min_child_samples': 47,\n",
       " 'subsample': 0.9062929959278163,\n",
       " 'colsample_bytree': 0.49896234420716185,\n",
       " 'reg_alpha': 0.07988733882802601,\n",
       " 'reg_lambda': 0.3645471059021414}"
      ]
     },
     "execution_count": 74,
     "metadata": {},
     "output_type": "execute_result"
    }
   ],
   "source": [
    "# study_lgb.best_params"
   ]
  },
  {
   "cell_type": "markdown",
   "metadata": {},
   "source": [
    "{'n_estimators': 344,  \n",
    " 'max_leaves': 64,  \n",
    " 'max_depth': 30,  \n",
    " 'learning_rate': 0.024004536127053,  \n",
    " 'min_child_weight': 2.157434806835596,  \n",
    " 'min_child_samples': 47,  \n",
    " 'subsample': 0.9062929959278163,  \n",
    " 'colsample_bytree': 0.49896234420716185,  \n",
    " 'reg_alpha': 0.07988733882802601,  \n",
    " 'reg_lambda': 0.3645471059021414}  \n",
    "\n",
    " 0.9140926649818321  "
   ]
  },
  {
   "cell_type": "code",
   "execution_count": null,
   "metadata": {},
   "outputs": [],
   "source": [
    "# study_lgb.best_value"
   ]
  },
  {
   "cell_type": "code",
   "execution_count": 69,
   "metadata": {},
   "outputs": [],
   "source": [
    "xgb_tuned_params = {'n_estimators': 487,\n",
    "                    'max_leaves': 49,\n",
    "                    'max_depth': 8,\n",
    "                    'learning_rate': 0.02908997375000365,\n",
    "                    'min_child_weight': 3.2323757201747445,\n",
    "                    'gamma': 0.03885029777651042,\n",
    "                    'subsample': 0.49277881770678167,\n",
    "                    'colsample_bytree': 0.6377228688391385,\n",
    "                    'reg_alpha': 0.38644252432386983,\n",
    "                    'reg_lambda': 0.6685527048138652}\n",
    "\n",
    "lgb_tuned_params = {'n_estimators': 344,\n",
    "                    'num_leaves': 64,\n",
    "                    'max_depth': 30,\n",
    "                    'learning_rate': 0.024004536127053,\n",
    "                    'min_child_weight': 2.157434806835596,\n",
    "                    'min_child_samples': 47,\n",
    "                    'subsample': 0.9062929959278163,\n",
    "                    'colsample_bytree': 0.49896234420716185,\n",
    "                    'reg_alpha': 0.07988733882802601,\n",
    "                    'reg_lambda': 0.3645471059021414}"
   ]
  },
  {
   "cell_type": "code",
   "execution_count": 70,
   "metadata": {},
   "outputs": [],
   "source": [
    "vc_model = VotingClassifier(\n",
    "    estimators=[\n",
    "        ('xgboost',xgb.XGBClassifier(random_state = 0, **xgb_tuned_params)),\n",
    "        ('lightboost',lgb.LGBMClassifier(random_state = 0, **lgb_tuned_params))\n",
    "    ],\n",
    "    voting = 'soft',\n",
    "    n_jobs= 8\n",
    ")"
   ]
  },
  {
   "cell_type": "code",
   "execution_count": 71,
   "metadata": {},
   "outputs": [],
   "source": [
    "final_model = Pipeline(\n",
    "    steps=[\n",
    "        ('scaler',RobustScaler()),\n",
    "        ('voting_classifier',vc_model)\n",
    "    ]\n",
    ")"
   ]
  },
  {
   "cell_type": "code",
   "execution_count": 69,
   "metadata": {},
   "outputs": [
    {
     "data": {
      "text/html": [
       "<style>#sk-container-id-1 {\n",
       "  /* Definition of color scheme common for light and dark mode */\n",
       "  --sklearn-color-text: black;\n",
       "  --sklearn-color-line: gray;\n",
       "  /* Definition of color scheme for unfitted estimators */\n",
       "  --sklearn-color-unfitted-level-0: #fff5e6;\n",
       "  --sklearn-color-unfitted-level-1: #f6e4d2;\n",
       "  --sklearn-color-unfitted-level-2: #ffe0b3;\n",
       "  --sklearn-color-unfitted-level-3: chocolate;\n",
       "  /* Definition of color scheme for fitted estimators */\n",
       "  --sklearn-color-fitted-level-0: #f0f8ff;\n",
       "  --sklearn-color-fitted-level-1: #d4ebff;\n",
       "  --sklearn-color-fitted-level-2: #b3dbfd;\n",
       "  --sklearn-color-fitted-level-3: cornflowerblue;\n",
       "\n",
       "  /* Specific color for light theme */\n",
       "  --sklearn-color-text-on-default-background: var(--sg-text-color, var(--theme-code-foreground, var(--jp-content-font-color1, black)));\n",
       "  --sklearn-color-background: var(--sg-background-color, var(--theme-background, var(--jp-layout-color0, white)));\n",
       "  --sklearn-color-border-box: var(--sg-text-color, var(--theme-code-foreground, var(--jp-content-font-color1, black)));\n",
       "  --sklearn-color-icon: #696969;\n",
       "\n",
       "  @media (prefers-color-scheme: dark) {\n",
       "    /* Redefinition of color scheme for dark theme */\n",
       "    --sklearn-color-text-on-default-background: var(--sg-text-color, var(--theme-code-foreground, var(--jp-content-font-color1, white)));\n",
       "    --sklearn-color-background: var(--sg-background-color, var(--theme-background, var(--jp-layout-color0, #111)));\n",
       "    --sklearn-color-border-box: var(--sg-text-color, var(--theme-code-foreground, var(--jp-content-font-color1, white)));\n",
       "    --sklearn-color-icon: #878787;\n",
       "  }\n",
       "}\n",
       "\n",
       "#sk-container-id-1 {\n",
       "  color: var(--sklearn-color-text);\n",
       "}\n",
       "\n",
       "#sk-container-id-1 pre {\n",
       "  padding: 0;\n",
       "}\n",
       "\n",
       "#sk-container-id-1 input.sk-hidden--visually {\n",
       "  border: 0;\n",
       "  clip: rect(1px 1px 1px 1px);\n",
       "  clip: rect(1px, 1px, 1px, 1px);\n",
       "  height: 1px;\n",
       "  margin: -1px;\n",
       "  overflow: hidden;\n",
       "  padding: 0;\n",
       "  position: absolute;\n",
       "  width: 1px;\n",
       "}\n",
       "\n",
       "#sk-container-id-1 div.sk-dashed-wrapped {\n",
       "  border: 1px dashed var(--sklearn-color-line);\n",
       "  margin: 0 0.4em 0.5em 0.4em;\n",
       "  box-sizing: border-box;\n",
       "  padding-bottom: 0.4em;\n",
       "  background-color: var(--sklearn-color-background);\n",
       "}\n",
       "\n",
       "#sk-container-id-1 div.sk-container {\n",
       "  /* jupyter's `normalize.less` sets `[hidden] { display: none; }`\n",
       "     but bootstrap.min.css set `[hidden] { display: none !important; }`\n",
       "     so we also need the `!important` here to be able to override the\n",
       "     default hidden behavior on the sphinx rendered scikit-learn.org.\n",
       "     See: https://github.com/scikit-learn/scikit-learn/issues/21755 */\n",
       "  display: inline-block !important;\n",
       "  position: relative;\n",
       "}\n",
       "\n",
       "#sk-container-id-1 div.sk-text-repr-fallback {\n",
       "  display: none;\n",
       "}\n",
       "\n",
       "div.sk-parallel-item,\n",
       "div.sk-serial,\n",
       "div.sk-item {\n",
       "  /* draw centered vertical line to link estimators */\n",
       "  background-image: linear-gradient(var(--sklearn-color-text-on-default-background), var(--sklearn-color-text-on-default-background));\n",
       "  background-size: 2px 100%;\n",
       "  background-repeat: no-repeat;\n",
       "  background-position: center center;\n",
       "}\n",
       "\n",
       "/* Parallel-specific style estimator block */\n",
       "\n",
       "#sk-container-id-1 div.sk-parallel-item::after {\n",
       "  content: \"\";\n",
       "  width: 100%;\n",
       "  border-bottom: 2px solid var(--sklearn-color-text-on-default-background);\n",
       "  flex-grow: 1;\n",
       "}\n",
       "\n",
       "#sk-container-id-1 div.sk-parallel {\n",
       "  display: flex;\n",
       "  align-items: stretch;\n",
       "  justify-content: center;\n",
       "  background-color: var(--sklearn-color-background);\n",
       "  position: relative;\n",
       "}\n",
       "\n",
       "#sk-container-id-1 div.sk-parallel-item {\n",
       "  display: flex;\n",
       "  flex-direction: column;\n",
       "}\n",
       "\n",
       "#sk-container-id-1 div.sk-parallel-item:first-child::after {\n",
       "  align-self: flex-end;\n",
       "  width: 50%;\n",
       "}\n",
       "\n",
       "#sk-container-id-1 div.sk-parallel-item:last-child::after {\n",
       "  align-self: flex-start;\n",
       "  width: 50%;\n",
       "}\n",
       "\n",
       "#sk-container-id-1 div.sk-parallel-item:only-child::after {\n",
       "  width: 0;\n",
       "}\n",
       "\n",
       "/* Serial-specific style estimator block */\n",
       "\n",
       "#sk-container-id-1 div.sk-serial {\n",
       "  display: flex;\n",
       "  flex-direction: column;\n",
       "  align-items: center;\n",
       "  background-color: var(--sklearn-color-background);\n",
       "  padding-right: 1em;\n",
       "  padding-left: 1em;\n",
       "}\n",
       "\n",
       "\n",
       "/* Toggleable style: style used for estimator/Pipeline/ColumnTransformer box that is\n",
       "clickable and can be expanded/collapsed.\n",
       "- Pipeline and ColumnTransformer use this feature and define the default style\n",
       "- Estimators will overwrite some part of the style using the `sk-estimator` class\n",
       "*/\n",
       "\n",
       "/* Pipeline and ColumnTransformer style (default) */\n",
       "\n",
       "#sk-container-id-1 div.sk-toggleable {\n",
       "  /* Default theme specific background. It is overwritten whether we have a\n",
       "  specific estimator or a Pipeline/ColumnTransformer */\n",
       "  background-color: var(--sklearn-color-background);\n",
       "}\n",
       "\n",
       "/* Toggleable label */\n",
       "#sk-container-id-1 label.sk-toggleable__label {\n",
       "  cursor: pointer;\n",
       "  display: block;\n",
       "  width: 100%;\n",
       "  margin-bottom: 0;\n",
       "  padding: 0.5em;\n",
       "  box-sizing: border-box;\n",
       "  text-align: center;\n",
       "}\n",
       "\n",
       "#sk-container-id-1 label.sk-toggleable__label-arrow:before {\n",
       "  /* Arrow on the left of the label */\n",
       "  content: \"▸\";\n",
       "  float: left;\n",
       "  margin-right: 0.25em;\n",
       "  color: var(--sklearn-color-icon);\n",
       "}\n",
       "\n",
       "#sk-container-id-1 label.sk-toggleable__label-arrow:hover:before {\n",
       "  color: var(--sklearn-color-text);\n",
       "}\n",
       "\n",
       "/* Toggleable content - dropdown */\n",
       "\n",
       "#sk-container-id-1 div.sk-toggleable__content {\n",
       "  max-height: 0;\n",
       "  max-width: 0;\n",
       "  overflow: hidden;\n",
       "  text-align: left;\n",
       "  /* unfitted */\n",
       "  background-color: var(--sklearn-color-unfitted-level-0);\n",
       "}\n",
       "\n",
       "#sk-container-id-1 div.sk-toggleable__content.fitted {\n",
       "  /* fitted */\n",
       "  background-color: var(--sklearn-color-fitted-level-0);\n",
       "}\n",
       "\n",
       "#sk-container-id-1 div.sk-toggleable__content pre {\n",
       "  margin: 0.2em;\n",
       "  border-radius: 0.25em;\n",
       "  color: var(--sklearn-color-text);\n",
       "  /* unfitted */\n",
       "  background-color: var(--sklearn-color-unfitted-level-0);\n",
       "}\n",
       "\n",
       "#sk-container-id-1 div.sk-toggleable__content.fitted pre {\n",
       "  /* unfitted */\n",
       "  background-color: var(--sklearn-color-fitted-level-0);\n",
       "}\n",
       "\n",
       "#sk-container-id-1 input.sk-toggleable__control:checked~div.sk-toggleable__content {\n",
       "  /* Expand drop-down */\n",
       "  max-height: 200px;\n",
       "  max-width: 100%;\n",
       "  overflow: auto;\n",
       "}\n",
       "\n",
       "#sk-container-id-1 input.sk-toggleable__control:checked~label.sk-toggleable__label-arrow:before {\n",
       "  content: \"▾\";\n",
       "}\n",
       "\n",
       "/* Pipeline/ColumnTransformer-specific style */\n",
       "\n",
       "#sk-container-id-1 div.sk-label input.sk-toggleable__control:checked~label.sk-toggleable__label {\n",
       "  color: var(--sklearn-color-text);\n",
       "  background-color: var(--sklearn-color-unfitted-level-2);\n",
       "}\n",
       "\n",
       "#sk-container-id-1 div.sk-label.fitted input.sk-toggleable__control:checked~label.sk-toggleable__label {\n",
       "  background-color: var(--sklearn-color-fitted-level-2);\n",
       "}\n",
       "\n",
       "/* Estimator-specific style */\n",
       "\n",
       "/* Colorize estimator box */\n",
       "#sk-container-id-1 div.sk-estimator input.sk-toggleable__control:checked~label.sk-toggleable__label {\n",
       "  /* unfitted */\n",
       "  background-color: var(--sklearn-color-unfitted-level-2);\n",
       "}\n",
       "\n",
       "#sk-container-id-1 div.sk-estimator.fitted input.sk-toggleable__control:checked~label.sk-toggleable__label {\n",
       "  /* fitted */\n",
       "  background-color: var(--sklearn-color-fitted-level-2);\n",
       "}\n",
       "\n",
       "#sk-container-id-1 div.sk-label label.sk-toggleable__label,\n",
       "#sk-container-id-1 div.sk-label label {\n",
       "  /* The background is the default theme color */\n",
       "  color: var(--sklearn-color-text-on-default-background);\n",
       "}\n",
       "\n",
       "/* On hover, darken the color of the background */\n",
       "#sk-container-id-1 div.sk-label:hover label.sk-toggleable__label {\n",
       "  color: var(--sklearn-color-text);\n",
       "  background-color: var(--sklearn-color-unfitted-level-2);\n",
       "}\n",
       "\n",
       "/* Label box, darken color on hover, fitted */\n",
       "#sk-container-id-1 div.sk-label.fitted:hover label.sk-toggleable__label.fitted {\n",
       "  color: var(--sklearn-color-text);\n",
       "  background-color: var(--sklearn-color-fitted-level-2);\n",
       "}\n",
       "\n",
       "/* Estimator label */\n",
       "\n",
       "#sk-container-id-1 div.sk-label label {\n",
       "  font-family: monospace;\n",
       "  font-weight: bold;\n",
       "  display: inline-block;\n",
       "  line-height: 1.2em;\n",
       "}\n",
       "\n",
       "#sk-container-id-1 div.sk-label-container {\n",
       "  text-align: center;\n",
       "}\n",
       "\n",
       "/* Estimator-specific */\n",
       "#sk-container-id-1 div.sk-estimator {\n",
       "  font-family: monospace;\n",
       "  border: 1px dotted var(--sklearn-color-border-box);\n",
       "  border-radius: 0.25em;\n",
       "  box-sizing: border-box;\n",
       "  margin-bottom: 0.5em;\n",
       "  /* unfitted */\n",
       "  background-color: var(--sklearn-color-unfitted-level-0);\n",
       "}\n",
       "\n",
       "#sk-container-id-1 div.sk-estimator.fitted {\n",
       "  /* fitted */\n",
       "  background-color: var(--sklearn-color-fitted-level-0);\n",
       "}\n",
       "\n",
       "/* on hover */\n",
       "#sk-container-id-1 div.sk-estimator:hover {\n",
       "  /* unfitted */\n",
       "  background-color: var(--sklearn-color-unfitted-level-2);\n",
       "}\n",
       "\n",
       "#sk-container-id-1 div.sk-estimator.fitted:hover {\n",
       "  /* fitted */\n",
       "  background-color: var(--sklearn-color-fitted-level-2);\n",
       "}\n",
       "\n",
       "/* Specification for estimator info (e.g. \"i\" and \"?\") */\n",
       "\n",
       "/* Common style for \"i\" and \"?\" */\n",
       "\n",
       ".sk-estimator-doc-link,\n",
       "a:link.sk-estimator-doc-link,\n",
       "a:visited.sk-estimator-doc-link {\n",
       "  float: right;\n",
       "  font-size: smaller;\n",
       "  line-height: 1em;\n",
       "  font-family: monospace;\n",
       "  background-color: var(--sklearn-color-background);\n",
       "  border-radius: 1em;\n",
       "  height: 1em;\n",
       "  width: 1em;\n",
       "  text-decoration: none !important;\n",
       "  margin-left: 1ex;\n",
       "  /* unfitted */\n",
       "  border: var(--sklearn-color-unfitted-level-1) 1pt solid;\n",
       "  color: var(--sklearn-color-unfitted-level-1);\n",
       "}\n",
       "\n",
       ".sk-estimator-doc-link.fitted,\n",
       "a:link.sk-estimator-doc-link.fitted,\n",
       "a:visited.sk-estimator-doc-link.fitted {\n",
       "  /* fitted */\n",
       "  border: var(--sklearn-color-fitted-level-1) 1pt solid;\n",
       "  color: var(--sklearn-color-fitted-level-1);\n",
       "}\n",
       "\n",
       "/* On hover */\n",
       "div.sk-estimator:hover .sk-estimator-doc-link:hover,\n",
       ".sk-estimator-doc-link:hover,\n",
       "div.sk-label-container:hover .sk-estimator-doc-link:hover,\n",
       ".sk-estimator-doc-link:hover {\n",
       "  /* unfitted */\n",
       "  background-color: var(--sklearn-color-unfitted-level-3);\n",
       "  color: var(--sklearn-color-background);\n",
       "  text-decoration: none;\n",
       "}\n",
       "\n",
       "div.sk-estimator.fitted:hover .sk-estimator-doc-link.fitted:hover,\n",
       ".sk-estimator-doc-link.fitted:hover,\n",
       "div.sk-label-container:hover .sk-estimator-doc-link.fitted:hover,\n",
       ".sk-estimator-doc-link.fitted:hover {\n",
       "  /* fitted */\n",
       "  background-color: var(--sklearn-color-fitted-level-3);\n",
       "  color: var(--sklearn-color-background);\n",
       "  text-decoration: none;\n",
       "}\n",
       "\n",
       "/* Span, style for the box shown on hovering the info icon */\n",
       ".sk-estimator-doc-link span {\n",
       "  display: none;\n",
       "  z-index: 9999;\n",
       "  position: relative;\n",
       "  font-weight: normal;\n",
       "  right: .2ex;\n",
       "  padding: .5ex;\n",
       "  margin: .5ex;\n",
       "  width: min-content;\n",
       "  min-width: 20ex;\n",
       "  max-width: 50ex;\n",
       "  color: var(--sklearn-color-text);\n",
       "  box-shadow: 2pt 2pt 4pt #999;\n",
       "  /* unfitted */\n",
       "  background: var(--sklearn-color-unfitted-level-0);\n",
       "  border: .5pt solid var(--sklearn-color-unfitted-level-3);\n",
       "}\n",
       "\n",
       ".sk-estimator-doc-link.fitted span {\n",
       "  /* fitted */\n",
       "  background: var(--sklearn-color-fitted-level-0);\n",
       "  border: var(--sklearn-color-fitted-level-3);\n",
       "}\n",
       "\n",
       ".sk-estimator-doc-link:hover span {\n",
       "  display: block;\n",
       "}\n",
       "\n",
       "/* \"?\"-specific style due to the `<a>` HTML tag */\n",
       "\n",
       "#sk-container-id-1 a.estimator_doc_link {\n",
       "  float: right;\n",
       "  font-size: 1rem;\n",
       "  line-height: 1em;\n",
       "  font-family: monospace;\n",
       "  background-color: var(--sklearn-color-background);\n",
       "  border-radius: 1rem;\n",
       "  height: 1rem;\n",
       "  width: 1rem;\n",
       "  text-decoration: none;\n",
       "  /* unfitted */\n",
       "  color: var(--sklearn-color-unfitted-level-1);\n",
       "  border: var(--sklearn-color-unfitted-level-1) 1pt solid;\n",
       "}\n",
       "\n",
       "#sk-container-id-1 a.estimator_doc_link.fitted {\n",
       "  /* fitted */\n",
       "  border: var(--sklearn-color-fitted-level-1) 1pt solid;\n",
       "  color: var(--sklearn-color-fitted-level-1);\n",
       "}\n",
       "\n",
       "/* On hover */\n",
       "#sk-container-id-1 a.estimator_doc_link:hover {\n",
       "  /* unfitted */\n",
       "  background-color: var(--sklearn-color-unfitted-level-3);\n",
       "  color: var(--sklearn-color-background);\n",
       "  text-decoration: none;\n",
       "}\n",
       "\n",
       "#sk-container-id-1 a.estimator_doc_link.fitted:hover {\n",
       "  /* fitted */\n",
       "  background-color: var(--sklearn-color-fitted-level-3);\n",
       "}\n",
       "</style><div id=\"sk-container-id-1\" class=\"sk-top-container\"><div class=\"sk-text-repr-fallback\"><pre>Pipeline(steps=[(&#x27;scaler&#x27;, RobustScaler()),\n",
       "                (&#x27;voting_classifier&#x27;,\n",
       "                 VotingClassifier(estimators=[(&#x27;xgboost&#x27;,\n",
       "                                               XGBClassifier(base_score=None,\n",
       "                                                             booster=None,\n",
       "                                                             callbacks=None,\n",
       "                                                             colsample_bylevel=None,\n",
       "                                                             colsample_bynode=None,\n",
       "                                                             colsample_bytree=0.6377228688391385,\n",
       "                                                             device=None,\n",
       "                                                             early_stopping_rounds=None,\n",
       "                                                             enable_categorical=False,\n",
       "                                                             eval_metric=None,\n",
       "                                                             feature_types=None,\n",
       "                                                             gamma=0....\n",
       "                                                             random_state=0, ...)),\n",
       "                                              (&#x27;lightboost&#x27;,\n",
       "                                               LGBMClassifier(colsample_bytree=0.49896234420716185,\n",
       "                                                              learning_rate=0.024004536127053,\n",
       "                                                              max_depth=30,\n",
       "                                                              min_child_samples=47,\n",
       "                                                              min_child_weight=2.157434806835596,\n",
       "                                                              n_estimators=344,\n",
       "                                                              num_leaves=64,\n",
       "                                                              random_state=0,\n",
       "                                                              reg_alpha=0.07988733882802601,\n",
       "                                                              reg_lambda=0.3645471059021414,\n",
       "                                                              subsample=0.9062929959278163))],\n",
       "                                  n_jobs=8, voting=&#x27;soft&#x27;))])</pre><b>In a Jupyter environment, please rerun this cell to show the HTML representation or trust the notebook. <br />On GitHub, the HTML representation is unable to render, please try loading this page with nbviewer.org.</b></div><div class=\"sk-container\" hidden><div class=\"sk-item sk-dashed-wrapped\"><div class=\"sk-label-container\"><div class=\"sk-label fitted sk-toggleable\"><input class=\"sk-toggleable__control sk-hidden--visually\" id=\"sk-estimator-id-1\" type=\"checkbox\" ><label for=\"sk-estimator-id-1\" class=\"sk-toggleable__label fitted sk-toggleable__label-arrow fitted\">&nbsp;&nbsp;Pipeline<a class=\"sk-estimator-doc-link fitted\" rel=\"noreferrer\" target=\"_blank\" href=\"https://scikit-learn.org/1.4/modules/generated/sklearn.pipeline.Pipeline.html\">?<span>Documentation for Pipeline</span></a><span class=\"sk-estimator-doc-link fitted\">i<span>Fitted</span></span></label><div class=\"sk-toggleable__content fitted\"><pre>Pipeline(steps=[(&#x27;scaler&#x27;, RobustScaler()),\n",
       "                (&#x27;voting_classifier&#x27;,\n",
       "                 VotingClassifier(estimators=[(&#x27;xgboost&#x27;,\n",
       "                                               XGBClassifier(base_score=None,\n",
       "                                                             booster=None,\n",
       "                                                             callbacks=None,\n",
       "                                                             colsample_bylevel=None,\n",
       "                                                             colsample_bynode=None,\n",
       "                                                             colsample_bytree=0.6377228688391385,\n",
       "                                                             device=None,\n",
       "                                                             early_stopping_rounds=None,\n",
       "                                                             enable_categorical=False,\n",
       "                                                             eval_metric=None,\n",
       "                                                             feature_types=None,\n",
       "                                                             gamma=0....\n",
       "                                                             random_state=0, ...)),\n",
       "                                              (&#x27;lightboost&#x27;,\n",
       "                                               LGBMClassifier(colsample_bytree=0.49896234420716185,\n",
       "                                                              learning_rate=0.024004536127053,\n",
       "                                                              max_depth=30,\n",
       "                                                              min_child_samples=47,\n",
       "                                                              min_child_weight=2.157434806835596,\n",
       "                                                              n_estimators=344,\n",
       "                                                              num_leaves=64,\n",
       "                                                              random_state=0,\n",
       "                                                              reg_alpha=0.07988733882802601,\n",
       "                                                              reg_lambda=0.3645471059021414,\n",
       "                                                              subsample=0.9062929959278163))],\n",
       "                                  n_jobs=8, voting=&#x27;soft&#x27;))])</pre></div> </div></div><div class=\"sk-serial\"><div class=\"sk-item\"><div class=\"sk-estimator fitted sk-toggleable\"><input class=\"sk-toggleable__control sk-hidden--visually\" id=\"sk-estimator-id-2\" type=\"checkbox\" ><label for=\"sk-estimator-id-2\" class=\"sk-toggleable__label fitted sk-toggleable__label-arrow fitted\">&nbsp;RobustScaler<a class=\"sk-estimator-doc-link fitted\" rel=\"noreferrer\" target=\"_blank\" href=\"https://scikit-learn.org/1.4/modules/generated/sklearn.preprocessing.RobustScaler.html\">?<span>Documentation for RobustScaler</span></a></label><div class=\"sk-toggleable__content fitted\"><pre>RobustScaler()</pre></div> </div></div><div class=\"sk-item sk-dashed-wrapped\"><div class=\"sk-label-container\"><div class=\"sk-label fitted sk-toggleable\"><input class=\"sk-toggleable__control sk-hidden--visually\" id=\"sk-estimator-id-3\" type=\"checkbox\" ><label for=\"sk-estimator-id-3\" class=\"sk-toggleable__label fitted sk-toggleable__label-arrow fitted\">&nbsp;voting_classifier: VotingClassifier<a class=\"sk-estimator-doc-link fitted\" rel=\"noreferrer\" target=\"_blank\" href=\"https://scikit-learn.org/1.4/modules/generated/sklearn.ensemble.VotingClassifier.html\">?<span>Documentation for voting_classifier: VotingClassifier</span></a></label><div class=\"sk-toggleable__content fitted\"><pre>VotingClassifier(estimators=[(&#x27;xgboost&#x27;,\n",
       "                              XGBClassifier(base_score=None, booster=None,\n",
       "                                            callbacks=None,\n",
       "                                            colsample_bylevel=None,\n",
       "                                            colsample_bynode=None,\n",
       "                                            colsample_bytree=0.6377228688391385,\n",
       "                                            device=None,\n",
       "                                            early_stopping_rounds=None,\n",
       "                                            enable_categorical=False,\n",
       "                                            eval_metric=None,\n",
       "                                            feature_types=None,\n",
       "                                            gamma=0.03885029777651042,\n",
       "                                            grow_policy=None,\n",
       "                                            importance_type=None,\n",
       "                                            interac...\n",
       "                                            num_parallel_tree=None,\n",
       "                                            random_state=0, ...)),\n",
       "                             (&#x27;lightboost&#x27;,\n",
       "                              LGBMClassifier(colsample_bytree=0.49896234420716185,\n",
       "                                             learning_rate=0.024004536127053,\n",
       "                                             max_depth=30, min_child_samples=47,\n",
       "                                             min_child_weight=2.157434806835596,\n",
       "                                             n_estimators=344, num_leaves=64,\n",
       "                                             random_state=0,\n",
       "                                             reg_alpha=0.07988733882802601,\n",
       "                                             reg_lambda=0.3645471059021414,\n",
       "                                             subsample=0.9062929959278163))],\n",
       "                 n_jobs=8, voting=&#x27;soft&#x27;)</pre></div> </div></div><div class=\"sk-parallel\"><div class=\"sk-parallel-item\"><div class=\"sk-item\"><div class=\"sk-label-container\"><div class=\"sk-label fitted sk-toggleable\"><label>xgboost</label></div></div><div class=\"sk-serial\"><div class=\"sk-item\"><div class=\"sk-estimator fitted sk-toggleable\"><input class=\"sk-toggleable__control sk-hidden--visually\" id=\"sk-estimator-id-4\" type=\"checkbox\" ><label for=\"sk-estimator-id-4\" class=\"sk-toggleable__label fitted sk-toggleable__label-arrow fitted\">XGBClassifier</label><div class=\"sk-toggleable__content fitted\"><pre>XGBClassifier(base_score=None, booster=None, callbacks=None,\n",
       "              colsample_bylevel=None, colsample_bynode=None,\n",
       "              colsample_bytree=0.6377228688391385, device=None,\n",
       "              early_stopping_rounds=None, enable_categorical=False,\n",
       "              eval_metric=None, feature_types=None, gamma=0.03885029777651042,\n",
       "              grow_policy=None, importance_type=None,\n",
       "              interaction_constraints=None, learning_rate=0.02908997375000365,\n",
       "              max_bin=None, max_cat_threshold=None, max_cat_to_onehot=None,\n",
       "              max_delta_step=None, max_depth=8, max_leaves=49,\n",
       "              min_child_weight=3.2323757201747445, missing=nan,\n",
       "              monotone_constraints=None, multi_strategy=None, n_estimators=487,\n",
       "              n_jobs=None, num_parallel_tree=None, random_state=0, ...)</pre></div> </div></div></div></div></div><div class=\"sk-parallel-item\"><div class=\"sk-item\"><div class=\"sk-label-container\"><div class=\"sk-label fitted sk-toggleable\"><label>lightboost</label></div></div><div class=\"sk-serial\"><div class=\"sk-item\"><div class=\"sk-estimator fitted sk-toggleable\"><input class=\"sk-toggleable__control sk-hidden--visually\" id=\"sk-estimator-id-5\" type=\"checkbox\" ><label for=\"sk-estimator-id-5\" class=\"sk-toggleable__label fitted sk-toggleable__label-arrow fitted\">LGBMClassifier</label><div class=\"sk-toggleable__content fitted\"><pre>LGBMClassifier(colsample_bytree=0.49896234420716185,\n",
       "               learning_rate=0.024004536127053, max_depth=30,\n",
       "               min_child_samples=47, min_child_weight=2.157434806835596,\n",
       "               n_estimators=344, num_leaves=64, random_state=0,\n",
       "               reg_alpha=0.07988733882802601, reg_lambda=0.3645471059021414,\n",
       "               subsample=0.9062929959278163)</pre></div> </div></div></div></div></div></div></div></div></div></div></div>"
      ],
      "text/plain": [
       "Pipeline(steps=[('scaler', RobustScaler()),\n",
       "                ('voting_classifier',\n",
       "                 VotingClassifier(estimators=[('xgboost',\n",
       "                                               XGBClassifier(base_score=None,\n",
       "                                                             booster=None,\n",
       "                                                             callbacks=None,\n",
       "                                                             colsample_bylevel=None,\n",
       "                                                             colsample_bynode=None,\n",
       "                                                             colsample_bytree=0.6377228688391385,\n",
       "                                                             device=None,\n",
       "                                                             early_stopping_rounds=None,\n",
       "                                                             enable_categorical=False,\n",
       "                                                             eval_metric=None,\n",
       "                                                             feature_types=None,\n",
       "                                                             gamma=0....\n",
       "                                                             random_state=0, ...)),\n",
       "                                              ('lightboost',\n",
       "                                               LGBMClassifier(colsample_bytree=0.49896234420716185,\n",
       "                                                              learning_rate=0.024004536127053,\n",
       "                                                              max_depth=30,\n",
       "                                                              min_child_samples=47,\n",
       "                                                              min_child_weight=2.157434806835596,\n",
       "                                                              n_estimators=344,\n",
       "                                                              num_leaves=64,\n",
       "                                                              random_state=0,\n",
       "                                                              reg_alpha=0.07988733882802601,\n",
       "                                                              reg_lambda=0.3645471059021414,\n",
       "                                                              subsample=0.9062929959278163))],\n",
       "                                  n_jobs=8, voting='soft'))])"
      ]
     },
     "execution_count": 69,
     "metadata": {},
     "output_type": "execute_result"
    }
   ],
   "source": [
    "final_model.fit(X,y)"
   ]
  },
  {
   "cell_type": "code",
   "execution_count": 70,
   "metadata": {},
   "outputs": [],
   "source": [
    "import pickle\n",
    "\n",
    "with open('model.pkl', 'wb') as file:\n",
    "    pickle.dump(final_model, file)"
   ]
  },
  {
   "cell_type": "code",
   "execution_count": 3,
   "metadata": {},
   "outputs": [],
   "source": [
    "a = 'no'\n",
    "b = 0 if a == 'yes' else 1"
   ]
  },
  {
   "cell_type": "code",
   "execution_count": 4,
   "metadata": {},
   "outputs": [
    {
     "data": {
      "text/plain": [
       "1"
      ]
     },
     "execution_count": 4,
     "metadata": {},
     "output_type": "execute_result"
    }
   ],
   "source": [
    "b"
   ]
  },
  {
   "cell_type": "code",
   "execution_count": null,
   "metadata": {},
   "outputs": [],
   "source": []
  }
 ],
 "metadata": {
  "kernelspec": {
   "display_name": "tf",
   "language": "python",
   "name": "tf"
  },
  "language_info": {
   "codemirror_mode": {
    "name": "ipython",
    "version": 3
   },
   "file_extension": ".py",
   "mimetype": "text/x-python",
   "name": "python",
   "nbconvert_exporter": "python",
   "pygments_lexer": "ipython3",
   "version": "3.9.19"
  }
 },
 "nbformat": 4,
 "nbformat_minor": 2
}
